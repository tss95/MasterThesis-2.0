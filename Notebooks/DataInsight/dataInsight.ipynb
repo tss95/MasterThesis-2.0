{
 "cells": [
  {
   "cell_type": "code",
   "execution_count": 4,
   "metadata": {},
   "outputs": [],
   "source": [
    "import numpy as np\n",
    "import pandas as pd\n",
    "import obspy\n",
    "\n",
    "import matplotlib.pyplot as plt\n",
    "import seaborn as sns\n",
    "\n",
    "import pylab as pl\n",
    "import time\n",
    "\n",
    "from matplotlib.colors import ListedColormap\n",
    "%matplotlib inline\n",
    "plt.rcParams[\"figure.figsize\"]= (15,15)\n",
    "\n",
    "\n",
    "import sys\n",
    "import os\n",
    "ISCOLAB = 'google.colab' in sys.modules\n",
    "\n",
    "import random\n",
    "import json\n",
    "import pprint\n",
    "from obspy import Stream, Trace, UTCDateTime\n",
    "sns.set(style='white', context='notebook', rc={'figure.figsize':(14,10)})\n",
    "\n",
    "base_dir = 'C:\\Documents\\Thesis_ssd\\MasterThesis-2.0'\n",
    "os.chdir(base_dir)\n",
    "\n",
    "from Classes.DataProcessing.LoadData import LoadData\n",
    "from Classes.DataProcessing.BaselineHelperFunctions import BaselineHelperFunctions\n",
    "from Classes.DataProcessing.DataHandler import DataHandler\n",
    "from Classes.DataProcessing.DataGenerator import DataGenerator\n",
    "from Classes.Modeling.Models import Models\n",
    "from Classes.Modeling.RandomGridSearch import RandomGridSearch\n",
    "from Classes.Modeling.CustomCallback import CustomCallback\n",
    "from Classes.Scaling.ScalerFitter import ScalerFitter\n",
    "from Classes.Scaling.MinMaxScalerFitter import MinMaxScalerFitter\n",
    "from Classes.Scaling.StandardScalerFitter import StandardScalerFitter\n",
    "\n"
   ]
  },
  {
   "cell_type": "code",
   "execution_count": 11,
   "metadata": {},
   "outputs": [],
   "source": [
    "csv_root = 'csv_folder/2_class'\n",
    "loadData = LoadData(csv_root, isBalanced = True)\n",
    "shuffle = False\n",
    "full_ds, train_ds, val_ds, test_ds = loadData.getDatasets(shuffle = shuffle)\n",
    "handler = DataHandler(csv_root)\n",
    "pp = pprint.PrettyPrinter(indent=4)\n",
    "helper = BaselineHelperFunctions()"
   ]
  },
  {
   "cell_type": "markdown",
   "metadata": {},
   "source": [
    "## Distributions:"
   ]
  },
  {
   "cell_type": "code",
   "execution_count": 172,
   "metadata": {},
   "outputs": [],
   "source": [
    "def get_all_earthquakes(ds):\n",
    "    earthquakes = []\n",
    "    for path, label in ds:\n",
    "        if label == 'earthquake':\n",
    "            earthquakes.append([path, label])\n",
    "    return np.array(earthquakes)\n",
    "\n",
    "def get_magnitudes(ds):\n",
    "    path_label_mag = []\n",
    "    for path, label in ds:\n",
    "        if label == \"noise\":\n",
    "            continue\n",
    "        mag = handler.path_to_trace(path)[1].get('magnitudes')[0]['mag']\n",
    "        path_label_mag.append([path, label, mag])\n",
    "    return np.array(path_label_mag)\n",
    "\n",
    "def get_mag_counts_rounded(path_label_mag, decimals):\n",
    "    path_label_mag_rounded = path_label_mag\n",
    "    for idx, plm in enumerate(path_label_mag_rounded):\n",
    "        path_label_mag_rounded[idx][2] = np.round(float(plm[2]), decimals=decimals)\n",
    "    intervals = [i/10**(decimals) for i in range(0, 10**(decimals+1) +1)]\n",
    "    interval_count = []\n",
    "    for interval in intervals:\n",
    "        current_count = 0\n",
    "        for path, label, mag in path_label_mag_rounded:\n",
    "            if float(mag) == interval:\n",
    "                current_count += 1\n",
    "        interval_count.append([interval, current_count])\n",
    "    return np.array(interval_count)\n",
    "                \n",
    "        "
   ]
  },
  {
   "cell_type": "code",
   "execution_count": 132,
   "metadata": {},
   "outputs": [],
   "source": [
    "path_label_mag = get_magnitudes(train_ds)\n"
   ]
  },
  {
   "cell_type": "code",
   "execution_count": 173,
   "metadata": {},
   "outputs": [],
   "source": [
    "rounded_mags = get_mag_counts_rounded(path_label_mag, 1)"
   ]
  },
  {
   "cell_type": "code",
   "execution_count": 174,
   "metadata": {},
   "outputs": [
    {
     "name": "stdout",
     "output_type": "stream",
     "text": [
      "[[  0.00000000e+00   0.00000000e+00]\n",
      " [  1.00000000e-01   0.00000000e+00]\n",
      " [  2.00000000e-01   0.00000000e+00]\n",
      " [  3.00000000e-01   0.00000000e+00]\n",
      " [  4.00000000e-01   0.00000000e+00]\n",
      " [  5.00000000e-01   3.00000000e+00]\n",
      " [  6.00000000e-01   1.20000000e+01]\n",
      " [  7.00000000e-01   1.80000000e+01]\n",
      " [  8.00000000e-01   1.90000000e+01]\n",
      " [  9.00000000e-01   4.20000000e+01]\n",
      " [  1.00000000e+00   6.50000000e+01]\n",
      " [  1.10000000e+00   8.40000000e+01]\n",
      " [  1.20000000e+00   1.15000000e+02]\n",
      " [  1.30000000e+00   9.30000000e+01]\n",
      " [  1.40000000e+00   1.17000000e+02]\n",
      " [  1.50000000e+00   1.27000000e+02]\n",
      " [  1.60000000e+00   1.42000000e+02]\n",
      " [  1.70000000e+00   1.49000000e+02]\n",
      " [  1.80000000e+00   1.44000000e+02]\n",
      " [  1.90000000e+00   1.51000000e+02]\n",
      " [  2.00000000e+00   1.58000000e+02]\n",
      " [  2.10000000e+00   1.64000000e+02]\n",
      " [  2.20000000e+00   2.01000000e+02]\n",
      " [  2.30000000e+00   2.51000000e+02]\n",
      " [  2.40000000e+00   2.98000000e+02]\n",
      " [  2.50000000e+00   2.97000000e+02]\n",
      " [  2.60000000e+00   2.81000000e+02]\n",
      " [  2.70000000e+00   2.66000000e+02]\n",
      " [  2.80000000e+00   2.83000000e+02]\n",
      " [  2.90000000e+00   2.61000000e+02]\n",
      " [  3.00000000e+00   2.25000000e+02]\n",
      " [  3.10000000e+00   1.69000000e+02]\n",
      " [  3.20000000e+00   1.90000000e+02]\n",
      " [  3.30000000e+00   1.47000000e+02]\n",
      " [  3.40000000e+00   1.32000000e+02]\n",
      " [  3.50000000e+00   9.60000000e+01]\n",
      " [  3.60000000e+00   9.60000000e+01]\n",
      " [  3.70000000e+00   8.50000000e+01]\n",
      " [  3.80000000e+00   9.50000000e+01]\n",
      " [  3.90000000e+00   6.60000000e+01]\n",
      " [  4.00000000e+00   5.30000000e+01]\n",
      " [  4.10000000e+00   5.50000000e+01]\n",
      " [  4.20000000e+00   4.00000000e+01]\n",
      " [  4.30000000e+00   4.50000000e+01]\n",
      " [  4.40000000e+00   2.90000000e+01]\n",
      " [  4.50000000e+00   2.90000000e+01]\n",
      " [  4.60000000e+00   2.30000000e+01]\n",
      " [  4.70000000e+00   2.00000000e+01]\n",
      " [  4.80000000e+00   2.90000000e+01]\n",
      " [  4.90000000e+00   1.20000000e+01]\n",
      " [  5.00000000e+00   1.50000000e+01]\n",
      " [  5.10000000e+00   1.00000000e+01]\n",
      " [  5.20000000e+00   1.10000000e+01]\n",
      " [  5.30000000e+00   4.00000000e+00]\n",
      " [  5.40000000e+00   3.00000000e+00]\n",
      " [  5.50000000e+00   3.00000000e+00]\n",
      " [  5.60000000e+00   3.00000000e+00]\n",
      " [  5.70000000e+00   1.00000000e+00]\n",
      " [  5.80000000e+00   1.00000000e+00]\n",
      " [  5.90000000e+00   2.00000000e+00]\n",
      " [  6.00000000e+00   0.00000000e+00]\n",
      " [  6.10000000e+00   1.00000000e+00]\n",
      " [  6.20000000e+00   1.00000000e+00]\n",
      " [  6.30000000e+00   0.00000000e+00]\n",
      " [  6.40000000e+00   0.00000000e+00]\n",
      " [  6.50000000e+00   0.00000000e+00]\n",
      " [  6.60000000e+00   0.00000000e+00]\n",
      " [  6.70000000e+00   0.00000000e+00]\n",
      " [  6.80000000e+00   0.00000000e+00]\n",
      " [  6.90000000e+00   0.00000000e+00]\n",
      " [  7.00000000e+00   0.00000000e+00]\n",
      " [  7.10000000e+00   0.00000000e+00]\n",
      " [  7.20000000e+00   0.00000000e+00]\n",
      " [  7.30000000e+00   0.00000000e+00]\n",
      " [  7.40000000e+00   0.00000000e+00]\n",
      " [  7.50000000e+00   0.00000000e+00]\n",
      " [  7.60000000e+00   0.00000000e+00]\n",
      " [  7.70000000e+00   0.00000000e+00]\n",
      " [  7.80000000e+00   0.00000000e+00]\n",
      " [  7.90000000e+00   0.00000000e+00]\n",
      " [  8.00000000e+00   0.00000000e+00]\n",
      " [  8.10000000e+00   0.00000000e+00]\n",
      " [  8.20000000e+00   0.00000000e+00]\n",
      " [  8.30000000e+00   0.00000000e+00]\n",
      " [  8.40000000e+00   0.00000000e+00]\n",
      " [  8.50000000e+00   0.00000000e+00]\n",
      " [  8.60000000e+00   0.00000000e+00]\n",
      " [  8.70000000e+00   0.00000000e+00]\n",
      " [  8.80000000e+00   0.00000000e+00]\n",
      " [  8.90000000e+00   0.00000000e+00]\n",
      " [  9.00000000e+00   0.00000000e+00]\n",
      " [  9.10000000e+00   0.00000000e+00]\n",
      " [  9.20000000e+00   0.00000000e+00]\n",
      " [  9.30000000e+00   0.00000000e+00]\n",
      " [  9.40000000e+00   0.00000000e+00]\n",
      " [  9.50000000e+00   0.00000000e+00]\n",
      " [  9.60000000e+00   0.00000000e+00]\n",
      " [  9.70000000e+00   0.00000000e+00]\n",
      " [  9.80000000e+00   0.00000000e+00]\n",
      " [  9.90000000e+00   0.00000000e+00]\n",
      " [  1.00000000e+01   0.00000000e+00]]\n"
     ]
    }
   ],
   "source": [
    "print(rounded_mags)"
   ]
  },
  {
   "cell_type": "code",
   "execution_count": 185,
   "metadata": {},
   "outputs": [
    {
     "data": {
      "image/png": "[encoded data removed]",
      "text/plain": [
       "<Figure size 1008x720 with 1 Axes>"
      ]
     },
     "metadata": {},
     "output_type": "display_data"
    }
   ],
   "source": [
    "plt.bar(rounded_mags[:,0], rounded_mags[:,1], align='center', alpha=0.5, width=0.1)\n",
    "plt.xlabel(\"Magnitude\")\n",
    "plt.ylabel(\"Number of occurances\")\n",
    "plt.title(\"Occurences of earthquakes of rouneded magnitude\")\n",
    "\n",
    "plt.show()"
   ]
  },
  {
   "cell_type": "code",
   "execution_count": 107,
   "metadata": {},
   "outputs": [
    {
     "data": {
      "text/plain": [
       "array([ 0. ,  0.1,  0.2,  0.3,  0.4,  0.5,  0.6,  0.7,  0.8,  0.9,  1. ,\n",
       "        1.1,  1.2,  1.3,  1.4,  1.5,  1.6,  1.7,  1.8,  1.9,  2. ,  2.1,\n",
       "        2.2,  2.3,  2.4,  2.5,  2.6,  2.7,  2.8,  2.9,  3. ,  3.1,  3.2,\n",
       "        3.3,  3.4,  3.5,  3.6,  3.7,  3.8,  3.9,  4. ,  4.1,  4.2,  4.3,\n",
       "        4.4,  4.5,  4.6,  4.7,  4.8,  4.9,  5. ,  5.1,  5.2,  5.3,  5.4,\n",
       "        5.5,  5.6,  5.7,  5.8,  5.9,  6. ,  6.1,  6.2,  6.3,  6.4,  6.5,\n",
       "        6.6,  6.7,  6.8,  6.9,  7. ,  7.1,  7.2,  7.3,  7.4,  7.5,  7.6,\n",
       "        7.7,  7.8,  7.9,  8. ,  8.1,  8.2,  8.3,  8.4,  8.5,  8.6,  8.7,\n",
       "        8.8,  8.9,  9. ,  9.1,  9.2,  9.3,  9.4,  9.5,  9.6,  9.7,  9.8,\n",
       "        9.9])"
      ]
     },
     "execution_count": 107,
     "metadata": {},
     "output_type": "execute_result"
    }
   ],
   "source": [
    "np.arange(0,10, (10**-1))"
   ]
  },
  {
   "cell_type": "code",
   "execution_count": null,
   "metadata": {},
   "outputs": [],
   "source": []
  }
 ],
 "metadata": {
  "kernelspec": {
   "display_name": "Python 3",
   "language": "python",
   "name": "python3"
  },
  "language_info": {
   "codemirror_mode": {
    "name": "ipython",
    "version": 3
   },
   "file_extension": ".py",
   "mimetype": "text/x-python",
   "name": "python",
   "nbconvert_exporter": "python",
   "pygments_lexer": "ipython3",
   "version": "3.8.3"
  }
 },
 "nbformat": 4,
 "nbformat_minor": 4
}
