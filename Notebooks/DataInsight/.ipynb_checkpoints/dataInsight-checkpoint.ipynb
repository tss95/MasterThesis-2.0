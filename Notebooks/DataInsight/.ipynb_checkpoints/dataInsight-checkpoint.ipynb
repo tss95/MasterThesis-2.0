{
 "cells": [
  {
   "cell_type": "code",
   "execution_count": 1,
   "metadata": {},
   "outputs": [],
   "source": [
    "import numpy as np\n",
    "import pandas as pd\n",
    "import obspy\n",
    "import math\n",
    "\n",
    "import matplotlib.pyplot as plt\n",
    "import seaborn as sns\n",
    "\n",
    "import pylab as pl\n",
    "import time\n",
    "\n",
    "from matplotlib.colors import ListedColormap\n",
    "%matplotlib inline\n",
    "plt.rcParams[\"figure.figsize\"]= (15,15)\n",
    "\n",
    "\n",
    "import sys\n",
    "import os\n",
    "ISCOLAB = 'google.colab' in sys.modules\n",
    "\n",
    "import random\n",
    "import json\n",
    "import pprint\n",
    "from obspy import Stream, Trace, UTCDateTime\n",
    "sns.set(style='white', context='notebook', rc={'figure.figsize':(14,10)})\n",
    "\n",
    "base_dir = 'C:\\Documents\\Thesis_ssd\\MasterThesis-2.0'\n",
    "os.chdir(base_dir)\n",
    "\n",
    "from Classes.DataProcessing.LoadData import LoadData\n",
    "from Classes.DataProcessing.BaselineHelperFunctions import BaselineHelperFunctions\n",
    "from Classes.DataProcessing.DataHandler import DataHandler\n",
    "from Classes.DataProcessing.DataGenerator import DataGenerator\n",
    "from Classes.Modeling.Models import Models\n",
    "from Classes.Modeling.RandomGridSearch import RandomGridSearch\n",
    "from Classes.Modeling.CustomCallback import CustomCallback\n",
    "from Classes.Scaling.ScalerFitter import ScalerFitter\n",
    "from Classes.Scaling.MinMaxScalerFitter import MinMaxScalerFitter\n",
    "from Classes.Scaling.StandardScalerFitter import StandardScalerFitter\n",
    "\n"
   ]
  },
  {
   "cell_type": "code",
   "execution_count": 2,
   "metadata": {},
   "outputs": [],
   "source": [
    "loadData = LoadData(isBalanced = True)\n",
    "shuffle = False\n",
    "full_ds, train_ds, val_ds, test_ds = loadData.getDatasets(shuffle = shuffle)\n",
    "handler = DataHandler()\n",
    "pp = pprint.PrettyPrinter(indent=4)\n",
    "helper = BaselineHelperFunctions()"
   ]
  },
  {
   "cell_type": "code",
   "execution_count": 97,
   "metadata": {},
   "outputs": [],
   "source": [
    "def get_all_earthquakes(ds):\n",
    "    earthquakes = []\n",
    "    for path, label in ds:\n",
    "        if label == 'earthquake':\n",
    "            earthquakes.append([path, label])\n",
    "    return np.array(earthquakes)\n",
    "\n",
    "def get_magnitudes(ds):\n",
    "    path_label_mag = []\n",
    "    for path, label in ds:\n",
    "        if label == \"noise\":\n",
    "            continue\n",
    "        mag = handler.path_to_trace(path)[1].get('magnitudes')[0]['mag']\n",
    "        path_label_mag.append([path, label, mag])\n",
    "    return np.array(path_label_mag)\n",
    "\n",
    "def get_mag_sqrtdist_ratios(ds):\n",
    "    path_label_mdratio = []\n",
    "    for path, label in ds:\n",
    "        if label == \"noise\":\n",
    "            continue\n",
    "        mdr = handler.path_to_trace(path)[1].get('magnitude_sqrtdist_ratio')\n",
    "        path_label_mdratio.append([path, label, mdr])\n",
    "    return path_label_mdratio\n",
    "\n",
    "def round_feature(path_label_feature, decimals):\n",
    "    path_label_feature_rounded = path_label_feature\n",
    "    for idx, plf in enumerate(path_label_feature_rounded):\n",
    "        path_label_feature_rounded[idx][2] = (int(np.round(float(plf[2]), decimals=decimals)*10**decimals))/(10**decimals)\n",
    "    return np.array(path_label_feature_rounded)\n",
    "\n",
    "def get_feature_counts_rounded(path_label_feature, decimals):\n",
    "    path_label_feature_rounded = round_feature(path_label_feature, decimals)\n",
    "    \n",
    "    max_feature = math.ceil(max(np.array(path_label_feature_rounded[:,2], dtype=np.float64)))\n",
    "    min_feature = math.floor(min(np.array(path_label_feature_rounded[:,2], dtype=np.float64)))\n",
    "    \n",
    "    intervals = [i/10**(decimals) for i in range(min_feature, max_feature*10**(decimals) +1)]\n",
    "    interval_count = []\n",
    "    \n",
    "    for interval in intervals:\n",
    "        current_count = 0\n",
    "        for path, label, feature in path_label_feature_rounded:\n",
    "            if float(feature) == interval:\n",
    "                current_count += 1\n",
    "        interval_count.append([interval, current_count])\n",
    "        \n",
    "    return np.array(interval_count)\n",
    "\n",
    "def plot_mdr_distribution(ds, decimals, use_log_10 = False):\n",
    "    path_label_mdr = get_mag_sqrtdist_ratios(ds)\n",
    "    rounded_mdr = get_feature_counts_rounded(path_label_mdr, decimals)\n",
    "    rounded_mdr = remove_empty_ends(rounded_mdr)\n",
    "    mdr = rounded_mdr[:,0]\n",
    "    counts = rounded_mdr[:,1]\n",
    "    if use_log_10:\n",
    "        counts = np.log10(counts, out=np.zeros_like(counts), where=(counts!=0))\n",
    "    plt.bar(mdr, counts, align='center', alpha = 0.8, width=(1/(10**decimals)))\n",
    "    plt.xlabel(\"MSDR\")\n",
    "    ylabel = \"Number of occurances\"\n",
    "    if use_log_10:\n",
    "        ylabel = \"Log number of occurances\"\n",
    "    plt.ylabel(ylabel)\n",
    "    dec = \"decimals\"\n",
    "    if decimals == 1:\n",
    "        dec = \"decimal\"\n",
    "    plt.title(f\"Magnitude squareroot distance ratio (MSDR) rounded to {decimals} {dec}\")\n",
    "    plt.show()\n",
    "    return\n",
    "\n",
    "def plot_mag_distribution(ds, decimals, use_log_10 = False):\n",
    "    path_label_mag = get_magnitudes(ds)\n",
    "    rounded_mags = get_feature_counts_rounded(path_label_mag, decimals)\n",
    "    rounded_mags = remove_empty_ends(rounded_mags)\n",
    "    mags = rounded_mags[:,0]\n",
    "    counts = rounded_mags[:,1]\n",
    "    if use_log_10:\n",
    "        counts = np.log10(counts, out=np.zeros_like(counts), where=(counts!=0))\n",
    "    plt.bar(mags, counts, align='center', alpha = 1.0, width=(1/(10**decimals)))\n",
    "    ylabel = \"Number of occurances\"\n",
    "    if use_log_10:\n",
    "        ylabel = \"Log number of occurances\"\n",
    "    plt.xlabel(\"Magnitude\")\n",
    "    plt.ylabel(ylabel)\n",
    "    dec = \"decimals\"\n",
    "    if decimals == 1:\n",
    "        dec = \"decimal\"\n",
    "    plt.title(f\"Occurences of earthquakes of rounded magnitude to {decimals} {dec}\")\n",
    "    plt.show()\n",
    "    return\n",
    "\n",
    "def remove_empty_ends(rounded_feature):\n",
    "    reversed_f = rounded_feature[::-1]\n",
    "    cut_rf = reversed_f.tolist()\n",
    "    index_to_remove = 0\n",
    "    for i in range(len(rounded_feature)):\n",
    "        if reversed_f[i][1] != 0:\n",
    "            break\n",
    "        else:\n",
    "            index_to_remove = i\n",
    "    cut_rf = cut_rf[index_to_remove:]\n",
    "    return np.array(cut_rf[::-1])\n",
    "        "
   ]
  },
  {
   "cell_type": "markdown",
   "metadata": {},
   "source": [
    "## Distributions:"
   ]
  },
  {
   "cell_type": "markdown",
   "metadata": {},
   "source": [
    "#### Magnitude distribution"
   ]
  },
  {
   "cell_type": "code",
   "execution_count": 98,
   "metadata": {},
   "outputs": [
    {
     "data": {
      "image/png": "[encoded data removed]",
      "text/plain": [
       "<Figure size 1008x720 with 1 Axes>"
      ]
     },
     "metadata": {},
     "output_type": "display_data"
    }
   ],
   "source": [
    "plot_mag_distribution(train_ds, 1, use_log_10 = True)"
   ]
  },
  {
   "cell_type": "markdown",
   "metadata": {},
   "source": [
    "#### Magnitude Squareroot distance ratio distribution"
   ]
  },
  {
   "cell_type": "code",
   "execution_count": 96,
   "metadata": {},
   "outputs": [
    {
     "data": {
      "image/png": "[encoded data removed]",
      "text/plain": [
       "<Figure size 1008x720 with 1 Axes>"
      ]
     },
     "metadata": {},
     "output_type": "display_data"
    }
   ],
   "source": [
    "plot_mdr_distribution(train_ds, 3, use_log_10 = True)"
   ]
  },
  {
   "cell_type": "code",
   "execution_count": 14,
   "metadata": {},
   "outputs": [],
   "source": [
    "path_label_mdr = get_mag_sqrtdist_ratios(train_ds)\n",
    "rounded_mdr = get_feature_counts_rounded(path_label_mdr, 3)"
   ]
  },
  {
   "cell_type": "code",
   "execution_count": 52,
   "metadata": {},
   "outputs": [],
   "source": [
    "rounded_mdr.tolist().reverse()"
   ]
  },
  {
   "cell_type": "code",
   "execution_count": 57,
   "metadata": {},
   "outputs": [
    {
     "data": {
      "text/plain": [
       "array([[ 1.   ,  0.   ],\n",
       "       [ 0.999,  0.   ],\n",
       "       [ 0.998,  0.   ],\n",
       "       ..., \n",
       "       [ 0.002,  0.   ],\n",
       "       [ 0.001,  0.   ],\n",
       "       [ 0.   ,  0.   ]])"
      ]
     },
     "execution_count": 57,
     "metadata": {},
     "output_type": "execute_result"
    }
   ],
   "source": [
    "rounded_mdr[::-1]"
   ]
  },
  {
   "cell_type": "code",
   "execution_count": 70,
   "metadata": {},
   "outputs": [],
   "source": [
    "no_empty = remove_empty_ends(rounded_mdr)"
   ]
  },
  {
   "cell_type": "code",
   "execution_count": 71,
   "metadata": {},
   "outputs": [
    {
     "data": {
      "text/plain": [
       "array([[ 0.   ,  0.   ],\n",
       "       [ 0.001,  0.   ],\n",
       "       [ 0.002,  0.   ],\n",
       "       ..., \n",
       "       [ 0.789,  0.   ],\n",
       "       [ 0.79 ,  1.   ],\n",
       "       [ 0.791,  0.   ]])"
      ]
     },
     "execution_count": 71,
     "metadata": {},
     "output_type": "execute_result"
    }
   ],
   "source": [
    "no_empty"
   ]
  },
  {
   "cell_type": "code",
   "execution_count": 78,
   "metadata": {},
   "outputs": [
    {
     "data": {
      "text/plain": [
       "6.907755278982137"
      ]
     },
     "execution_count": 78,
     "metadata": {},
     "output_type": "execute_result"
    }
   ],
   "source": [
    "math.log(1000)"
   ]
  },
  {
   "cell_type": "code",
   "execution_count": 80,
   "metadata": {},
   "outputs": [
    {
     "name": "stdout",
     "output_type": "stream",
     "text": [
      "[ 0.  1.  2.  3.]\n"
     ]
    }
   ],
   "source": [
    "a = [1, 10, 100, 1000]\n",
    "print(np.log10(a))"
   ]
  },
  {
   "cell_type": "code",
   "execution_count": null,
   "metadata": {},
   "outputs": [],
   "source": []
  }
 ],
 "metadata": {
  "kernelspec": {
   "display_name": "Python 3",
   "language": "python",
   "name": "python3"
  },
  "language_info": {
   "codemirror_mode": {
    "name": "ipython",
    "version": 3
   },
   "file_extension": ".py",
   "mimetype": "text/x-python",
   "name": "python",
   "nbconvert_exporter": "python",
   "pygments_lexer": "ipython3",
   "version": "3.8.3"
  }
 },
 "nbformat": 4,
 "nbformat_minor": 4
}
