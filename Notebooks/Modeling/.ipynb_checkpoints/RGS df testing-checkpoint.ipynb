{
 "cells": [
  {
   "cell_type": "code",
   "execution_count": 1,
   "metadata": {},
   "outputs": [],
   "source": [
    "import os\n",
    "import sys\n",
    "import pprint\n",
    "\n",
    "base_dir = 'C:\\Documents\\Thesis_ssd\\MasterThesis-2.0'\n",
    "os.chdir(base_dir)\n",
    "\n",
    "from Classes.DataProcessing.LoadData import LoadData\n",
    "from Classes.DataProcessing.BaselineHelperFunctions import BaselineHelperFunctions\n",
    "from Classes.DataProcessing.DataHandler import DataHandler\n",
    "from Classes.DataProcessing.DataGenerator import DataGenerator\n",
    "from Classes.Modeling.Models import Models\n",
    "from Classes.Modeling.RandomGridSearch import RandomGridSearch\n",
    "from Classes.Modeling.CustomCallback import CustomCallback\n",
    "from Classes.Scaling.ScalerFitter import ScalerFitter\n",
    "from Classes.Scaling.MinMaxScalerFitter import MinMaxScalerFitter\n",
    "from Classes.Scaling.StandardScalerFitter import StandardScalerFitter\n",
    "import json\n",
    "\n",
    "helper = BaselineHelperFunctions()\n",
    "%load_ext tensorboard"
   ]
  },
  {
   "cell_type": "code",
   "execution_count": 2,
   "metadata": {},
   "outputs": [],
   "source": [
    "num_classes = 2\n",
    "loadData = LoadData(num_classes, isBalanced = True)\n",
    "shuffle = False\n",
    "full_ds, train_ds, val_ds, test_ds = loadData.getDatasets(shuffle = shuffle)\n",
    "handler = DataHandler()\n",
    "pp = pprint.PrettyPrinter(indent=4)\n",
    "helper = BaselineHelperFunctions()"
   ]
  },
  {
   "cell_type": "code",
   "execution_count": 3,
   "metadata": {},
   "outputs": [],
   "source": [
    "hyper_grid = {\n",
    "        \"batch_size\" : [8, 16, 32, 64, 128, 256, 512],\n",
    "        \"epochs\" : [1],\n",
    "        \"learning_rate\" : [0.1, 0.01, 0.001, 0.0001, 0.00001],\n",
    "        \"optimizer\" : [\"adam\", \"rmsprop\", \"sgd\"]\n",
    "    }\n",
    "model_grid = {\n",
    "    \"activation\" : [\"relu\", \"sigmoid\", \"softmax\", \"tanh\"],\n",
    "    \"dropout_rate\" : [0.5, 0.4, 0.3, 0.2, 0.1, 0.01, 0],\n",
    "    \"filters\" : [11, 13, 15, 17, 19, 21, 23, 25],\n",
    "    \"kernel_size\" : [3, 5, 7, 9, 11, 13],\n",
    "    \"l1_r\" : [0.3, 0.2, 0.1, 0.01, 0.001, 0.0001],\n",
    "    \"l2_r\" : [0.3, 0.2, 0.1, 0.01, 0.001, 0.0001],\n",
    "    \"output_layer_activation\" : [\"softmax\", \"sigmoid\"],\n",
    "    \"padding\" : [\"same\"],\n",
    "    \"start_neurons\" : [8,16, 32, 64, 128, 256, 512, 1024]\n",
    "}\n",
    "\"\"\"\n",
    "{'activation': 'softmax', \n",
    " 'dropout_rate': 0.1, \n",
    " 'filters': 25, \n",
    " 'kernel_size': 9, \n",
    " 'l1_r': 0.01, \n",
    " 'l2_r': 0.0001, \n",
    " 'output_layer_activation': 'softmax', \n",
    " 'padding': 'same', \n",
    " 'start_neurons': 32}\n",
    "\"\"\"\n",
    "\n",
    "\n",
    "model_nr = 5\n",
    "\n",
    "test_mode = True\n",
    "use_scaler = False\n",
    "use_noise_augmentor = False\n",
    "detrend = False\n",
    "use_minmax = False\n",
    "use_highpass = False\n",
    "highpass_freq = 0.1\n",
    "\n",
    "n_picks = 2\n",
    "\n",
    "use_tensorboard = False\n",
    "use_liveplots = False\n",
    "use_custom_callback = False\n",
    "use_early_stopping = True"
   ]
  },
  {
   "cell_type": "code",
   "execution_count": 4,
   "metadata": {},
   "outputs": [],
   "source": [
    "randomGridSearch = RandomGridSearch(train_ds, val_ds, test_ds, model_nr, test_mode, detrend,\n",
    "                                    use_scaler, use_noise_augmentor, use_minmax, use_highpass, n_picks, \n",
    "                                    hyper_grid = hyper_grid, model_grid = model_grid, \n",
    "                                    num_classes = num_classes, use_tensorboard = use_tensorboard,\n",
    "                                    use_liveplots = use_liveplots, use_custom_callback = use_custom_callback,\n",
    "                                    use_early_stopping = use_early_stopping, highpass_freq = highpass_freq)"
   ]
  },
  {
   "cell_type": "code",
   "execution_count": 5,
   "metadata": {},
   "outputs": [
    {
     "name": "stdout",
     "output_type": "stream",
     "text": [
      "{'activation': 'sigmoid', 'dropout_rate': 0.5, 'filters': 15, 'kernel_size': 3, 'l1_r': 0.1, 'l2_r': 0.001, 'output_layer_activation': 'softmax', 'padding': 'same', 'start_neurons': 128}\n",
      "softmax\n",
      "Model: \"sequential\"\n",
      "_________________________________________________________________\n",
      "Layer (type)                 Output Shape              Param #   \n",
      "=================================================================\n",
      "conv1d (Conv1D)              (64, 3, 15)               270060    \n",
      "_________________________________________________________________\n",
      "batch_normalization (BatchNo (64, 3, 15)               60        \n",
      "_________________________________________________________________\n",
      "flatten (Flatten)            (64, 45)                  0         \n",
      "_________________________________________________________________\n",
      "dense (Dense)                (64, 2)                   92        \n",
      "=================================================================\n",
      "Total params: 270,212\n",
      "Trainable params: 270,182\n",
      "Non-trainable params: 30\n",
      "_________________________________________________________________\n",
      "Starting: \n",
      "{'batch_size': 64, 'epochs': 1, 'learning_rate': 0.001, 'optimizer': 'rmsprop'}\n",
      "---------------------------------------------------------------------------------\n",
      "{   'activation': 'sigmoid',\n",
      "    'dropout_rate': 0.5,\n",
      "    'filters': 15,\n",
      "    'kernel_size': 3,\n",
      "    'l1_r': 0.1,\n",
      "    'l2_r': 0.001,\n",
      "    'output_layer_activation': 'softmax',\n",
      "    'padding': 'same',\n",
      "    'start_neurons': 128}\n",
      "17/17 [==============================] - 2s 131ms/step - loss: 93.3491 - accuracy: 0.5239 - precision: 0.5239 - recall: 0.5239 - val_loss: 40.7903 - val_accuracy: 0.4297 - val_precision: 0.4297 - val_recall: 0.4297\n",
      "WARNING:tensorflow:From C:\\Documents\\Thesis_ssd\\MasterThesis-2.0\\Classes\\Modeling\\RandomGridSearch.py:299: Model.evaluate_generator (from tensorflow.python.keras.engine.training) is deprecated and will be removed in a future version.\n",
      "Instructions for updating:\n",
      "Please use Model.evaluate, which supports generators.\n",
      "{'train_loss': 40.50688171386719, 'train_accuracy': 0.5395220518112183, 'train_precision': 0.5395220518112183, 'train_recall': 0.5395220518112183} {'val_loss': 40.73178482055664, 'val_accuracy': 0.4583333432674408, 'val_precision': 0.4583333432674408, 'val_recall': 0.4583333432674408}\n",
      "{'activation': 'softmax', 'dropout_rate': 0.2, 'filters': 21, 'kernel_size': 7, 'l1_r': 0.2, 'l2_r': 0.1, 'output_layer_activation': 'softmax', 'padding': 'same', 'start_neurons': 512}\n",
      "softmax\n",
      "Model: \"sequential_1\"\n",
      "_________________________________________________________________\n",
      "Layer (type)                 Output Shape              Param #   \n",
      "=================================================================\n",
      "conv1d_1 (Conv1D)            (8, 3, 21)                882168    \n",
      "_________________________________________________________________\n",
      "batch_normalization_1 (Batch (8, 3, 21)                84        \n",
      "_________________________________________________________________\n",
      "flatten_1 (Flatten)          (8, 63)                   0         \n",
      "_________________________________________________________________\n",
      "dense_1 (Dense)              (8, 2)                    128       \n",
      "=================================================================\n",
      "Total params: 882,380\n",
      "Trainable params: 882,338\n",
      "Non-trainable params: 42\n",
      "_________________________________________________________________\n",
      "Starting: \n",
      "{'batch_size': 8, 'epochs': 1, 'learning_rate': 1e-05, 'optimizer': 'sgd'}\n",
      "---------------------------------------------------------------------------------\n",
      "{   'activation': 'softmax',\n",
      "    'dropout_rate': 0.2,\n",
      "    'filters': 21,\n",
      "    'kernel_size': 7,\n",
      "    'l1_r': 0.2,\n",
      "    'l2_r': 0.1,\n",
      "    'output_layer_activation': 'softmax',\n",
      "    'padding': 'same',\n",
      "    'start_neurons': 512}\n",
      "137/137 [==============================] - 3s 26ms/step - loss: 1032.9556 - accuracy: 0.4754 - precision_1: 0.4754 - recall_1: 0.4754 - val_loss: 1008.4716 - val_accuracy: 0.5598 - val_precision_1: 0.5598 - val_recall_1: 0.55981053.2657 - accuracy: 0.4943 - precision_1: 0.494 - ETA: 1s - loss: 1047.8962 -\n",
      "{'train_loss': 1008.4832153320312, 'train_accuracy': 0.5410584211349487, 'train_precision': 0.5410584211349487, 'train_recall': 0.5410584211349487} {'val_loss': 1008.476318359375, 'val_accuracy': 0.5572916865348816, 'val_precision': 0.5572916865348816, 'val_recall': 0.5572916865348816}\n",
      "----------------------------------------------------ACCURACY------------------------------------------------------\n",
      "Highest val accuracy: 0.5572916865348816, at index: 1\n",
      "Highest training accuracy: 0.5410584211349487, at index: 1\n",
      "----------------------------------------------------PRECISION-----------------------------------------------------\n",
      "Highest val precision: 0.5572916865348816, at index: 1\n",
      "Highest training precision: 0.5410584211349487, at index: 1\n",
      "-----------------------------------------------------RECALL-------------------------------------------------------\n",
      "Highest val recall: 0.5572916865348816, at index: 1\n",
      "Highest training recall: 0.5410584211349487, at index: 1\n",
      "------------------------------------------------------------------------------------------------------------------\n"
     ]
    }
   ],
   "source": [
    "results, highest_test_accuracy_index, highest_train_accuracy_index, highest_test_precision_index, highest_test_recall_index= randomGridSearch.fit()"
   ]
  },
  {
   "cell_type": "code",
   "execution_count": 6,
   "metadata": {},
   "outputs": [],
   "source": [
    "results_df = randomGridSearch.results_df.copy()"
   ]
  },
  {
   "cell_type": "code",
   "execution_count": 7,
   "metadata": {},
   "outputs": [
    {
     "data": {
      "text/html": [
       "<div>\n",
       "<style scoped>\n",
       "    .dataframe tbody tr th:only-of-type {\n",
       "        vertical-align: middle;\n",
       "    }\n",
       "\n",
       "    .dataframe tbody tr th {\n",
       "        vertical-align: top;\n",
       "    }\n",
       "\n",
       "    .dataframe thead th {\n",
       "        text-align: right;\n",
       "    }\n",
       "</style>\n",
       "<table border=\"1\" class=\"dataframe\">\n",
       "  <thead>\n",
       "    <tr style=\"text-align: right;\">\n",
       "      <th></th>\n",
       "      <th>batch_size</th>\n",
       "      <th>epochs</th>\n",
       "      <th>learning_rate</th>\n",
       "      <th>optimizer</th>\n",
       "      <th>activation</th>\n",
       "      <th>dropout_rate</th>\n",
       "      <th>filters</th>\n",
       "      <th>kernel_size</th>\n",
       "      <th>l1_r</th>\n",
       "      <th>l2_r</th>\n",
       "      <th>...</th>\n",
       "      <th>padding</th>\n",
       "      <th>start_neurons</th>\n",
       "      <th>train_loss</th>\n",
       "      <th>train_accuracy</th>\n",
       "      <th>train_precision</th>\n",
       "      <th>train_recall</th>\n",
       "      <th>val_loss</th>\n",
       "      <th>val_accuracy</th>\n",
       "      <th>val_precision</th>\n",
       "      <th>val_recall</th>\n",
       "    </tr>\n",
       "  </thead>\n",
       "  <tbody>\n",
       "    <tr>\n",
       "      <th>0</th>\n",
       "      <td>64</td>\n",
       "      <td>1</td>\n",
       "      <td>0.001</td>\n",
       "      <td>rmsprop</td>\n",
       "      <td>sigmoid</td>\n",
       "      <td>0.5</td>\n",
       "      <td>15</td>\n",
       "      <td>3</td>\n",
       "      <td>0.1</td>\n",
       "      <td>0.001</td>\n",
       "      <td>...</td>\n",
       "      <td>same</td>\n",
       "      <td>128</td>\n",
       "      <td>40.506882</td>\n",
       "      <td>0.539522</td>\n",
       "      <td>0.539522</td>\n",
       "      <td>0.539522</td>\n",
       "      <td>40.731785</td>\n",
       "      <td>0.458333</td>\n",
       "      <td>0.458333</td>\n",
       "      <td>0.458333</td>\n",
       "    </tr>\n",
       "    <tr>\n",
       "      <th>1</th>\n",
       "      <td>8</td>\n",
       "      <td>1</td>\n",
       "      <td>1e-05</td>\n",
       "      <td>sgd</td>\n",
       "      <td>softmax</td>\n",
       "      <td>0.2</td>\n",
       "      <td>21</td>\n",
       "      <td>7</td>\n",
       "      <td>0.2</td>\n",
       "      <td>0.1</td>\n",
       "      <td>...</td>\n",
       "      <td>same</td>\n",
       "      <td>512</td>\n",
       "      <td>1008.483215</td>\n",
       "      <td>0.541058</td>\n",
       "      <td>0.541058</td>\n",
       "      <td>0.541058</td>\n",
       "      <td>1008.476318</td>\n",
       "      <td>0.557292</td>\n",
       "      <td>0.557292</td>\n",
       "      <td>0.557292</td>\n",
       "    </tr>\n",
       "  </tbody>\n",
       "</table>\n",
       "<p>2 rows × 21 columns</p>\n",
       "</div>"
      ],
      "text/plain": [
       "  batch_size epochs learning_rate optimizer activation dropout_rate filters  \\\n",
       "0         64      1         0.001   rmsprop    sigmoid          0.5      15   \n",
       "1          8      1         1e-05       sgd    softmax          0.2      21   \n",
       "\n",
       "  kernel_size l1_r   l2_r  ... padding start_neurons   train_loss  \\\n",
       "0           3  0.1  0.001  ...    same           128    40.506882   \n",
       "1           7  0.2    0.1  ...    same           512  1008.483215   \n",
       "\n",
       "   train_accuracy  train_precision  train_recall     val_loss  val_accuracy  \\\n",
       "0        0.539522         0.539522      0.539522    40.731785      0.458333   \n",
       "1        0.541058         0.541058      0.541058  1008.476318      0.557292   \n",
       "\n",
       "   val_precision  val_recall  \n",
       "0       0.458333    0.458333  \n",
       "1       0.557292    0.557292  \n",
       "\n",
       "[2 rows x 21 columns]"
      ]
     },
     "execution_count": 7,
     "metadata": {},
     "output_type": "execute_result"
    }
   ],
   "source": [
    "results_df"
   ]
  },
  {
   "cell_type": "code",
   "execution_count": 8,
   "metadata": {},
   "outputs": [
    {
     "data": {
      "text/plain": [
       "'metrics_train = {\"train_loss\" : 0, \"train_accuracy\" : 1, \"train_precision\" : 2, \"train_recall\" : 4}\\nmetrics_val = {\"val_loss\" : 0, \"val_accuracy\" : 1, \"val_precision\" : 2, \"val_recall\" : 4}\\nfinished_train = False\\n# Get last row in results\\ntemp_df = results_df.tail(1).copy()\\nfor idx, column in enumerate(temp_df.columns):\\n    if idx >= 13:\\n        temp_df[column] = temp_df[column].astype(\\'float\\')\\n# Get list of columns containing nan values\\n#unfinished_columns = results_df.columns[results_df.isnull().any()].tolist()\\nunfinished_columns = results_df.columns[temp_df.isnull().any()].tolist()\\nprint(unfinished_columns)\\nfor idx, column in enumerate(unfinished_columns):\\n    if not finished_train:\\n        # Change value at column using the metrics\\n        results_df.iloc[-1, results_df.columns.get_loc(column)] = metrics_train[column]\\n        if idx == len(metrics_train)-1:\\n            finished_train = True\\n\\n    else:\\n        # Change value at column using the metrics\\n        results_df.iloc[-1, results_df.columns.get_loc(column)] = metrics_val[column]\\n'"
      ]
     },
     "execution_count": 8,
     "metadata": {},
     "output_type": "execute_result"
    }
   ],
   "source": [
    "\"\"\"metrics_train = {\"train_loss\" : 0, \"train_accuracy\" : 1, \"train_precision\" : 2, \"train_recall\" : 4}\n",
    "metrics_val = {\"val_loss\" : 0, \"val_accuracy\" : 1, \"val_precision\" : 2, \"val_recall\" : 4}\n",
    "finished_train = False\n",
    "# Get last row in results\n",
    "temp_df = results_df.tail(1).copy()\n",
    "for idx, column in enumerate(temp_df.columns):\n",
    "    if idx >= 13:\n",
    "        temp_df[column] = temp_df[column].astype('float')\n",
    "# Get list of columns containing nan values\n",
    "#unfinished_columns = results_df.columns[results_df.isnull().any()].tolist()\n",
    "unfinished_columns = results_df.columns[temp_df.isnull().any()].tolist()\n",
    "print(unfinished_columns)\n",
    "for idx, column in enumerate(unfinished_columns):\n",
    "    if not finished_train:\n",
    "        # Change value at column using the metrics\n",
    "        results_df.iloc[-1, results_df.columns.get_loc(column)] = metrics_train[column]\n",
    "        if idx == len(metrics_train)-1:\n",
    "            finished_train = True\n",
    "\n",
    "    else:\n",
    "        # Change value at column using the metrics\n",
    "        results_df.iloc[-1, results_df.columns.get_loc(column)] = metrics_val[column]\n",
    "\"\"\""
   ]
  },
  {
   "cell_type": "code",
   "execution_count": 9,
   "metadata": {},
   "outputs": [
    {
     "data": {
      "text/html": [
       "<div>\n",
       "<style scoped>\n",
       "    .dataframe tbody tr th:only-of-type {\n",
       "        vertical-align: middle;\n",
       "    }\n",
       "\n",
       "    .dataframe tbody tr th {\n",
       "        vertical-align: top;\n",
       "    }\n",
       "\n",
       "    .dataframe thead th {\n",
       "        text-align: right;\n",
       "    }\n",
       "</style>\n",
       "<table border=\"1\" class=\"dataframe\">\n",
       "  <thead>\n",
       "    <tr style=\"text-align: right;\">\n",
       "      <th></th>\n",
       "      <th>batch_size</th>\n",
       "      <th>epochs</th>\n",
       "      <th>learning_rate</th>\n",
       "      <th>optimizer</th>\n",
       "      <th>activation</th>\n",
       "      <th>dropout_rate</th>\n",
       "      <th>filters</th>\n",
       "      <th>kernel_size</th>\n",
       "      <th>l1_r</th>\n",
       "      <th>l2_r</th>\n",
       "      <th>...</th>\n",
       "      <th>padding</th>\n",
       "      <th>start_neurons</th>\n",
       "      <th>train_loss</th>\n",
       "      <th>train_accuracy</th>\n",
       "      <th>train_precision</th>\n",
       "      <th>train_recall</th>\n",
       "      <th>val_loss</th>\n",
       "      <th>val_accuracy</th>\n",
       "      <th>val_precision</th>\n",
       "      <th>val_recall</th>\n",
       "    </tr>\n",
       "  </thead>\n",
       "  <tbody>\n",
       "    <tr>\n",
       "      <th>0</th>\n",
       "      <td>64</td>\n",
       "      <td>1</td>\n",
       "      <td>0.001</td>\n",
       "      <td>rmsprop</td>\n",
       "      <td>sigmoid</td>\n",
       "      <td>0.5</td>\n",
       "      <td>15</td>\n",
       "      <td>3</td>\n",
       "      <td>0.1</td>\n",
       "      <td>0.001</td>\n",
       "      <td>...</td>\n",
       "      <td>same</td>\n",
       "      <td>128</td>\n",
       "      <td>40.506882</td>\n",
       "      <td>0.539522</td>\n",
       "      <td>0.539522</td>\n",
       "      <td>0.539522</td>\n",
       "      <td>40.731785</td>\n",
       "      <td>0.458333</td>\n",
       "      <td>0.458333</td>\n",
       "      <td>0.458333</td>\n",
       "    </tr>\n",
       "    <tr>\n",
       "      <th>1</th>\n",
       "      <td>8</td>\n",
       "      <td>1</td>\n",
       "      <td>1e-05</td>\n",
       "      <td>sgd</td>\n",
       "      <td>softmax</td>\n",
       "      <td>0.2</td>\n",
       "      <td>21</td>\n",
       "      <td>7</td>\n",
       "      <td>0.2</td>\n",
       "      <td>0.1</td>\n",
       "      <td>...</td>\n",
       "      <td>same</td>\n",
       "      <td>512</td>\n",
       "      <td>1008.483215</td>\n",
       "      <td>0.541058</td>\n",
       "      <td>0.541058</td>\n",
       "      <td>0.541058</td>\n",
       "      <td>1008.476318</td>\n",
       "      <td>0.557292</td>\n",
       "      <td>0.557292</td>\n",
       "      <td>0.557292</td>\n",
       "    </tr>\n",
       "  </tbody>\n",
       "</table>\n",
       "<p>2 rows × 21 columns</p>\n",
       "</div>"
      ],
      "text/plain": [
       "  batch_size epochs learning_rate optimizer activation dropout_rate filters  \\\n",
       "0         64      1         0.001   rmsprop    sigmoid          0.5      15   \n",
       "1          8      1         1e-05       sgd    softmax          0.2      21   \n",
       "\n",
       "  kernel_size l1_r   l2_r  ... padding start_neurons   train_loss  \\\n",
       "0           3  0.1  0.001  ...    same           128    40.506882   \n",
       "1           7  0.2    0.1  ...    same           512  1008.483215   \n",
       "\n",
       "   train_accuracy  train_precision  train_recall     val_loss  val_accuracy  \\\n",
       "0        0.539522         0.539522      0.539522    40.731785      0.458333   \n",
       "1        0.541058         0.541058      0.541058  1008.476318      0.557292   \n",
       "\n",
       "   val_precision  val_recall  \n",
       "0       0.458333    0.458333  \n",
       "1       0.557292    0.557292  \n",
       "\n",
       "[2 rows x 21 columns]"
      ]
     },
     "execution_count": 9,
     "metadata": {},
     "output_type": "execute_result"
    }
   ],
   "source": [
    "results_df"
   ]
  },
  {
   "cell_type": "code",
   "execution_count": 10,
   "metadata": {},
   "outputs": [
    {
     "name": "stdout",
     "output_type": "stream",
     "text": [
      "1\n"
     ]
    }
   ],
   "source": [
    "ex = {\"A\" : 1,\n",
    "      \"B\" : 2}\n",
    "print(ex[\"A\"])\n",
    "\n",
    "keys = list(hyper_grid.keys())\n",
    "keys2 = list(model_grid.keys())"
   ]
  },
  {
   "cell_type": "code",
   "execution_count": 11,
   "metadata": {},
   "outputs": [
    {
     "name": "stdout",
     "output_type": "stream",
     "text": [
      "['batch_size', 'epochs', 'learning_rate', 'optimizer']\n",
      "['activation', 'dropout_rate', 'filters', 'kernel_size', 'l1_r', 'l2_r', 'output_layer_activation', 'padding', 'start_neurons']\n"
     ]
    }
   ],
   "source": [
    "print(keys)\n",
    "print(keys2)"
   ]
  },
  {
   "cell_type": "code",
   "execution_count": 12,
   "metadata": {},
   "outputs": [
    {
     "data": {
      "text/plain": [
       "'batch_size'"
      ]
     },
     "execution_count": 12,
     "metadata": {},
     "output_type": "execute_result"
    }
   ],
   "source": [
    "keys[0]"
   ]
  },
  {
   "cell_type": "code",
   "execution_count": 13,
   "metadata": {},
   "outputs": [],
   "source": [
    "import numpy as np\n",
    "import pandas as pd\n",
    "hyper_keys = list(hyper_grid.keys())\n",
    "model_keys = list(model_grid.keys())\n",
    "metrics_train_keys = [\"train_loss\", \"train_accuracy\", \"train_presicion\", \"train_recall\"]\n",
    "metrics_val_keys = [\"val_loss\", \"val_accuracy\", \"val_presicion\", \"val_recall\"]\n",
    "header = np.concatenate((hyper_keys, model_keys, metrics_train_keys, metrics_val_keys))\n",
    "info_table = pd.DataFrame(np.array([i for i in range(len(header))]).reshape(1, 21) ,columns = header)"
   ]
  },
  {
   "cell_type": "code",
   "execution_count": 14,
   "metadata": {},
   "outputs": [
    {
     "data": {
      "text/html": [
       "<div>\n",
       "<style scoped>\n",
       "    .dataframe tbody tr th:only-of-type {\n",
       "        vertical-align: middle;\n",
       "    }\n",
       "\n",
       "    .dataframe tbody tr th {\n",
       "        vertical-align: top;\n",
       "    }\n",
       "\n",
       "    .dataframe thead th {\n",
       "        text-align: right;\n",
       "    }\n",
       "</style>\n",
       "<table border=\"1\" class=\"dataframe\">\n",
       "  <thead>\n",
       "    <tr style=\"text-align: right;\">\n",
       "      <th></th>\n",
       "      <th>batch_size</th>\n",
       "      <th>epochs</th>\n",
       "      <th>learning_rate</th>\n",
       "      <th>optimizer</th>\n",
       "      <th>activation</th>\n",
       "      <th>dropout_rate</th>\n",
       "      <th>filters</th>\n",
       "      <th>kernel_size</th>\n",
       "      <th>l1_r</th>\n",
       "      <th>l2_r</th>\n",
       "      <th>...</th>\n",
       "      <th>padding</th>\n",
       "      <th>start_neurons</th>\n",
       "      <th>train_loss</th>\n",
       "      <th>train_accuracy</th>\n",
       "      <th>train_presicion</th>\n",
       "      <th>train_recall</th>\n",
       "      <th>val_loss</th>\n",
       "      <th>val_accuracy</th>\n",
       "      <th>val_presicion</th>\n",
       "      <th>val_recall</th>\n",
       "    </tr>\n",
       "  </thead>\n",
       "  <tbody>\n",
       "    <tr>\n",
       "      <th>0</th>\n",
       "      <td>0</td>\n",
       "      <td>1</td>\n",
       "      <td>2</td>\n",
       "      <td>3</td>\n",
       "      <td>4</td>\n",
       "      <td>5</td>\n",
       "      <td>6</td>\n",
       "      <td>7</td>\n",
       "      <td>8</td>\n",
       "      <td>9</td>\n",
       "      <td>...</td>\n",
       "      <td>11</td>\n",
       "      <td>12</td>\n",
       "      <td>13</td>\n",
       "      <td>14</td>\n",
       "      <td>15</td>\n",
       "      <td>16</td>\n",
       "      <td>17</td>\n",
       "      <td>18</td>\n",
       "      <td>19</td>\n",
       "      <td>20</td>\n",
       "    </tr>\n",
       "  </tbody>\n",
       "</table>\n",
       "<p>1 rows × 21 columns</p>\n",
       "</div>"
      ],
      "text/plain": [
       "   batch_size  epochs  learning_rate  optimizer  activation  dropout_rate  \\\n",
       "0           0       1              2          3           4             5   \n",
       "\n",
       "   filters  kernel_size  l1_r  l2_r  ...  padding  start_neurons  train_loss  \\\n",
       "0        6            7     8     9  ...       11             12          13   \n",
       "\n",
       "   train_accuracy  train_presicion  train_recall  val_loss  val_accuracy  \\\n",
       "0              14               15            16        17            18   \n",
       "\n",
       "   val_presicion  val_recall  \n",
       "0             19          20  \n",
       "\n",
       "[1 rows x 21 columns]"
      ]
     },
     "execution_count": 14,
     "metadata": {},
     "output_type": "execute_result"
    }
   ],
   "source": [
    "info_table"
   ]
  },
  {
   "cell_type": "code",
   "execution_count": 15,
   "metadata": {},
   "outputs": [],
   "source": [
    "testing = pd.DataFrame([[0, np.nan]], columns = [\"a\", \"b\"])"
   ]
  },
  {
   "cell_type": "code",
   "execution_count": 16,
   "metadata": {},
   "outputs": [
    {
     "name": "stdout",
     "output_type": "stream",
     "text": [
      "   a  b\n",
      "0  0  1\n"
     ]
    },
    {
     "data": {
      "text/html": [
       "<div>\n",
       "<style scoped>\n",
       "    .dataframe tbody tr th:only-of-type {\n",
       "        vertical-align: middle;\n",
       "    }\n",
       "\n",
       "    .dataframe tbody tr th {\n",
       "        vertical-align: top;\n",
       "    }\n",
       "\n",
       "    .dataframe thead th {\n",
       "        text-align: right;\n",
       "    }\n",
       "</style>\n",
       "<table border=\"1\" class=\"dataframe\">\n",
       "  <thead>\n",
       "    <tr style=\"text-align: right;\">\n",
       "      <th></th>\n",
       "      <th>a</th>\n",
       "      <th>b</th>\n",
       "    </tr>\n",
       "  </thead>\n",
       "  <tbody>\n",
       "    <tr>\n",
       "      <th>0</th>\n",
       "      <td>0</td>\n",
       "      <td>NaN</td>\n",
       "    </tr>\n",
       "    <tr>\n",
       "      <th>0</th>\n",
       "      <td>0</td>\n",
       "      <td>1.0</td>\n",
       "    </tr>\n",
       "  </tbody>\n",
       "</table>\n",
       "</div>"
      ],
      "text/plain": [
       "   a    b\n",
       "0  0  NaN\n",
       "0  0  1.0"
      ]
     },
     "execution_count": 16,
     "metadata": {},
     "output_type": "execute_result"
    }
   ],
   "source": [
    "to_add = pd.DataFrame(np.array([0 ,1]).reshape(1,2), columns = [\"a\", \"b\"])\n",
    "print(to_add)\n",
    "testing = testing.append(to_add)\n",
    "testing"
   ]
  },
  {
   "cell_type": "code",
   "execution_count": 17,
   "metadata": {},
   "outputs": [],
   "source": [
    "nan_columns = testing.columns[testing.isnull().any()].tolist()"
   ]
  },
  {
   "cell_type": "code",
   "execution_count": 18,
   "metadata": {},
   "outputs": [
    {
     "ename": "NameError",
     "evalue": "name 'temp_df' is not defined",
     "output_type": "error",
     "traceback": [
      "\u001b[1;31m---------------------------------------------------------------------------\u001b[0m",
      "\u001b[1;31mNameError\u001b[0m                                 Traceback (most recent call last)",
      "\u001b[1;32m<ipython-input-18-be85eaa12f78>\u001b[0m in \u001b[0;36m<module>\u001b[1;34m\u001b[0m\n\u001b[1;32m----> 1\u001b[1;33m \u001b[0mtemp_df\u001b[0m\u001b[1;33m\u001b[0m\u001b[1;33m\u001b[0m\u001b[0m\n\u001b[0m",
      "\u001b[1;31mNameError\u001b[0m: name 'temp_df' is not defined"
     ]
    }
   ],
   "source": [
    "temp_df"
   ]
  },
  {
   "cell_type": "code",
   "execution_count": null,
   "metadata": {},
   "outputs": [],
   "source": [
    "nan_columns = temp_df.columns[temp_df.isna().any()].tolist()"
   ]
  },
  {
   "cell_type": "code",
   "execution_count": null,
   "metadata": {},
   "outputs": [],
   "source": [
    "nan_cols = [i for i in temp_df.columns if pd.isnull(temp_df[i].values)]"
   ]
  },
  {
   "cell_type": "code",
   "execution_count": null,
   "metadata": {},
   "outputs": [],
   "source": [
    "for column in temp_df.columns:\n",
    "    print(temp_df[column].values)"
   ]
  },
  {
   "cell_type": "code",
   "execution_count": null,
   "metadata": {},
   "outputs": [],
   "source": []
  },
  {
   "cell_type": "code",
   "execution_count": null,
   "metadata": {},
   "outputs": [],
   "source": [
    "temp_df['val_loss'].dtype"
   ]
  },
  {
   "cell_type": "code",
   "execution_count": null,
   "metadata": {},
   "outputs": [],
   "source": []
  }
 ],
 "metadata": {
  "kernelspec": {
   "display_name": "Python 3",
   "language": "python",
   "name": "python3"
  },
  "language_info": {
   "codemirror_mode": {
    "name": "ipython",
    "version": 3
   },
   "file_extension": ".py",
   "mimetype": "text/x-python",
   "name": "python",
   "nbconvert_exporter": "python",
   "pygments_lexer": "ipython3",
   "version": "3.8.3"
  }
 },
 "nbformat": 4,
 "nbformat_minor": 4
}
