{
 "cells": [
  {
   "cell_type": "code",
   "execution_count": 1,
   "metadata": {},
   "outputs": [
    {
     "ename": "FileNotFoundError",
     "evalue": "[WinError 2] The system cannot find the file specified: 'C:\\\\Documents\\\\Thesis_ssd\\\\MasterThesis-2.0'",
     "output_type": "error",
     "traceback": [
      "\u001b[1;31m---------------------------------------------------------------------------\u001b[0m",
      "\u001b[1;31mFileNotFoundError\u001b[0m                         Traceback (most recent call last)",
      "\u001b[1;32m<ipython-input-1-aa83fc0efb7e>\u001b[0m in \u001b[0;36m<module>\u001b[1;34m\u001b[0m\n\u001b[0;32m      4\u001b[0m \u001b[1;33m\u001b[0m\u001b[0m\n\u001b[0;32m      5\u001b[0m \u001b[0mbase_dir\u001b[0m \u001b[1;33m=\u001b[0m \u001b[1;34m'C:\\Documents\\Thesis_ssd\\MasterThesis-2.0'\u001b[0m\u001b[1;33m\u001b[0m\u001b[1;33m\u001b[0m\u001b[0m\n\u001b[1;32m----> 6\u001b[1;33m \u001b[0mos\u001b[0m\u001b[1;33m.\u001b[0m\u001b[0mchdir\u001b[0m\u001b[1;33m(\u001b[0m\u001b[0mbase_dir\u001b[0m\u001b[1;33m)\u001b[0m\u001b[1;33m\u001b[0m\u001b[1;33m\u001b[0m\u001b[0m\n\u001b[0m\u001b[0;32m      7\u001b[0m \u001b[1;33m\u001b[0m\u001b[0m\n\u001b[0;32m      8\u001b[0m \u001b[1;32mfrom\u001b[0m \u001b[0mClasses\u001b[0m\u001b[1;33m.\u001b[0m\u001b[0mDataProcessing\u001b[0m\u001b[1;33m.\u001b[0m\u001b[0mLoadData\u001b[0m \u001b[1;32mimport\u001b[0m \u001b[0mLoadData\u001b[0m\u001b[1;33m\u001b[0m\u001b[1;33m\u001b[0m\u001b[0m\n",
      "\u001b[1;31mFileNotFoundError\u001b[0m: [WinError 2] The system cannot find the file specified: 'C:\\\\Documents\\\\Thesis_ssd\\\\MasterThesis-2.0'"
     ]
    }
   ],
   "source": [
    "import os\n",
    "import sys\n",
    "import pprint\n",
    "\n",
    "base_dir = 'C:\\Documents\\Thesis_ssd\\MasterThesis'\n",
    "os.chdir(base_dir)\n",
    "\n",
    "from Classes.DataProcessing.LoadData import LoadData\n",
    "from Classes.DataProcessing.BaselineHelperFunctions import BaselineHelperFunctions\n",
    "from Classes.DataProcessing.DataHandler import DataHandler\n",
    "from Classes.DataProcessing.DataGenerator import DataGenerator\n",
    "from Classes.Modeling.Models import Models\n",
    "from Classes.Modeling.RandomGridSearch import RandomGridSearch\n",
    "from Classes.Modeling.CustomCallback import CustomCallback\n",
    "from Classes.Scaling.ScalerFitter import ScalerFitter\n",
    "from Classes.Scaling.MinMaxScalerFitter import MinMaxScalerFitter\n",
    "from Classes.Scaling.StandardScalerFitter import StandardScalerFitter\n",
    "import json\n",
    "\n",
    "helper = BaselineHelperFunctions()\n",
    "%load_ext tensorboard"
   ]
  },
  {
   "cell_type": "code",
   "execution_count": null,
   "metadata": {},
   "outputs": [],
   "source": [
    "num_classes = 2\n",
    "loadData = LoadData(num_classes, isBalanced = True)\n",
    "shuffle = False\n",
    "full_ds, train_ds, val_ds, test_ds = loadData.getDatasets(shuffle = shuffle)\n",
    "handler = DataHandler()\n",
    "pp = pprint.PrettyPrinter(indent=4)\n",
    "helper = BaselineHelperFunctions()"
   ]
  },
  {
   "cell_type": "code",
   "execution_count": null,
   "metadata": {},
   "outputs": [],
   "source": [
    "hyper_grid = {\n",
    "        \"batch_size\" : [8, 16, 32, 64, 128, 256, 512],\n",
    "        \"epochs\" : [1],\n",
    "        \"learning_rate\" : [0.1, 0.01, 0.001, 0.0001, 0.00001],\n",
    "        \"optimizer\" : [\"adam\", \"rmsprop\", \"sgd\"]\n",
    "    }\n",
    "model_grid = {\n",
    "    \"activation\" : [\"relu\", \"sigmoid\", \"softmax\", \"tanh\"],\n",
    "    \"dropout_rate\" : [0.5, 0.4, 0.3, 0.2, 0.1, 0.01, 0],\n",
    "    \"filters\" : [11, 13, 15, 17, 19, 21, 23, 25],\n",
    "    \"kernel_size\" : [3, 5, 7, 9, 11, 13],\n",
    "    \"l1_r\" : [0.3, 0.2, 0.1, 0.01, 0.001, 0.0001],\n",
    "    \"l2_r\" : [0.3, 0.2, 0.1, 0.01, 0.001, 0.0001],\n",
    "    \"output_layer_activation\" : [\"softmax\", \"sigmoid\"],\n",
    "    \"padding\" : [\"same\"],\n",
    "    \"start_neurons\" : [8,16, 32, 64, 128, 256, 512, 1024]\n",
    "}\n",
    "\"\"\"\n",
    "{'activation': 'softmax', \n",
    " 'dropout_rate': 0.1, \n",
    " 'filters': 25, \n",
    " 'kernel_size': 9, \n",
    " 'l1_r': 0.01, \n",
    " 'l2_r': 0.0001, \n",
    " 'output_layer_activation': 'softmax', \n",
    " 'padding': 'same', \n",
    " 'start_neurons': 32}\n",
    "\"\"\"\n",
    "\n",
    "\n",
    "model_nr = 5\n",
    "\n",
    "test_mode = True\n",
    "use_scaler = False\n",
    "use_noise_augmentor = False\n",
    "detrend = False\n",
    "use_minmax = False\n",
    "use_highpass = False\n",
    "highpass_freq = 0.1\n",
    "\n",
    "n_picks = 2\n",
    "\n",
    "use_tensorboard = False\n",
    "use_liveplots = False\n",
    "use_custom_callback = False\n",
    "use_early_stopping = True"
   ]
  },
  {
   "cell_type": "code",
   "execution_count": null,
   "metadata": {},
   "outputs": [],
   "source": [
    "randomGridSearch = RandomGridSearch(train_ds, val_ds, test_ds, model_nr, test_mode, detrend,\n",
    "                                    use_scaler, use_noise_augmentor, use_minmax, use_highpass, n_picks, \n",
    "                                    hyper_grid = hyper_grid, model_grid = model_grid, \n",
    "                                    num_classes = num_classes, use_tensorboard = use_tensorboard,\n",
    "                                    use_liveplots = use_liveplots, use_custom_callback = use_custom_callback,\n",
    "                                    use_early_stopping = use_early_stopping, highpass_freq = highpass_freq)"
   ]
  },
  {
   "cell_type": "code",
   "execution_count": null,
   "metadata": {},
   "outputs": [],
   "source": [
    "results, highest_test_accuracy_index, highest_train_accuracy_index, highest_test_precision_index, highest_test_recall_index= randomGridSearch.fit()"
   ]
  },
  {
   "cell_type": "code",
   "execution_count": null,
   "metadata": {},
   "outputs": [],
   "source": [
    "results_df = randomGridSearch.results_df.copy()"
   ]
  },
  {
   "cell_type": "code",
   "execution_count": null,
   "metadata": {},
   "outputs": [],
   "source": [
    "results_df"
   ]
  },
  {
   "cell_type": "code",
   "execution_count": null,
   "metadata": {},
   "outputs": [],
   "source": [
    "\"\"\"metrics_train = {\"train_loss\" : 0, \"train_accuracy\" : 1, \"train_precision\" : 2, \"train_recall\" : 4}\n",
    "metrics_val = {\"val_loss\" : 0, \"val_accuracy\" : 1, \"val_precision\" : 2, \"val_recall\" : 4}\n",
    "finished_train = False\n",
    "# Get last row in results\n",
    "temp_df = results_df.tail(1).copy()\n",
    "for idx, column in enumerate(temp_df.columns):\n",
    "    if idx >= 13:\n",
    "        temp_df[column] = temp_df[column].astype('float')\n",
    "# Get list of columns containing nan values\n",
    "#unfinished_columns = results_df.columns[results_df.isnull().any()].tolist()\n",
    "unfinished_columns = results_df.columns[temp_df.isnull().any()].tolist()\n",
    "print(unfinished_columns)\n",
    "for idx, column in enumerate(unfinished_columns):\n",
    "    if not finished_train:\n",
    "        # Change value at column using the metrics\n",
    "        results_df.iloc[-1, results_df.columns.get_loc(column)] = metrics_train[column]\n",
    "        if idx == len(metrics_train)-1:\n",
    "            finished_train = True\n",
    "\n",
    "    else:\n",
    "        # Change value at column using the metrics\n",
    "        results_df.iloc[-1, results_df.columns.get_loc(column)] = metrics_val[column]\n",
    "\"\"\""
   ]
  },
  {
   "cell_type": "code",
   "execution_count": null,
   "metadata": {},
   "outputs": [],
   "source": [
    "results_df"
   ]
  },
  {
   "cell_type": "code",
   "execution_count": null,
   "metadata": {},
   "outputs": [],
   "source": [
    "ex = {\"A\" : 1,\n",
    "      \"B\" : 2}\n",
    "print(ex[\"A\"])\n",
    "\n",
    "keys = list(hyper_grid.keys())\n",
    "keys2 = list(model_grid.keys())"
   ]
  },
  {
   "cell_type": "code",
   "execution_count": null,
   "metadata": {},
   "outputs": [],
   "source": [
    "print(keys)\n",
    "print(keys2)"
   ]
  },
  {
   "cell_type": "code",
   "execution_count": null,
   "metadata": {},
   "outputs": [],
   "source": [
    "keys[0]"
   ]
  },
  {
   "cell_type": "code",
   "execution_count": null,
   "metadata": {},
   "outputs": [],
   "source": [
    "import numpy as np\n",
    "import pandas as pd\n",
    "hyper_keys = list(hyper_grid.keys())\n",
    "model_keys = list(model_grid.keys())\n",
    "metrics_train_keys = [\"train_loss\", \"train_accuracy\", \"train_presicion\", \"train_recall\"]\n",
    "metrics_val_keys = [\"val_loss\", \"val_accuracy\", \"val_presicion\", \"val_recall\"]\n",
    "header = np.concatenate((hyper_keys, model_keys, metrics_train_keys, metrics_val_keys))\n",
    "info_table = pd.DataFrame(np.array([i for i in range(len(header))]).reshape(1, 21) ,columns = header)"
   ]
  },
  {
   "cell_type": "code",
   "execution_count": null,
   "metadata": {},
   "outputs": [],
   "source": [
    "info_table"
   ]
  },
  {
   "cell_type": "code",
   "execution_count": null,
   "metadata": {},
   "outputs": [],
   "source": [
    "testing = pd.DataFrame([[0, np.nan]], columns = [\"a\", \"b\"])"
   ]
  },
  {
   "cell_type": "code",
   "execution_count": null,
   "metadata": {},
   "outputs": [],
   "source": [
    "to_add = pd.DataFrame(np.array([0 ,1]).reshape(1,2), columns = [\"a\", \"b\"])\n",
    "print(to_add)\n",
    "testing = testing.append(to_add)\n",
    "testing"
   ]
  },
  {
   "cell_type": "code",
   "execution_count": null,
   "metadata": {},
   "outputs": [],
   "source": [
    "nan_columns = testing.columns[testing.isnull().any()].tolist()"
   ]
  },
  {
   "cell_type": "code",
   "execution_count": null,
   "metadata": {},
   "outputs": [],
   "source": [
    "temp_df"
   ]
  },
  {
   "cell_type": "code",
   "execution_count": null,
   "metadata": {},
   "outputs": [],
   "source": [
    "nan_columns = temp_df.columns[temp_df.isna().any()].tolist()"
   ]
  },
  {
   "cell_type": "code",
   "execution_count": null,
   "metadata": {},
   "outputs": [],
   "source": [
    "nan_cols = [i for i in temp_df.columns if pd.isnull(temp_df[i].values)]"
   ]
  },
  {
   "cell_type": "code",
   "execution_count": null,
   "metadata": {},
   "outputs": [],
   "source": [
    "for column in temp_df.columns:\n",
    "    print(temp_df[column].values)"
   ]
  },
  {
   "cell_type": "code",
   "execution_count": null,
   "metadata": {},
   "outputs": [],
   "source": []
  },
  {
   "cell_type": "code",
   "execution_count": null,
   "metadata": {},
   "outputs": [],
   "source": [
    "temp_df['val_loss'].dtype"
   ]
  },
  {
   "cell_type": "code",
   "execution_count": null,
   "metadata": {},
   "outputs": [],
   "source": []
  }
 ],
 "metadata": {
  "kernelspec": {
   "display_name": "Python 3",
   "language": "python",
   "name": "python3"
  },
  "language_info": {
   "codemirror_mode": {
    "name": "ipython",
    "version": 3
   },
   "file_extension": ".py",
   "mimetype": "text/x-python",
   "name": "python",
   "nbconvert_exporter": "python",
   "pygments_lexer": "ipython3",
   "version": "3.8.3"
  }
 },
 "nbformat": 4,
 "nbformat_minor": 4
}
