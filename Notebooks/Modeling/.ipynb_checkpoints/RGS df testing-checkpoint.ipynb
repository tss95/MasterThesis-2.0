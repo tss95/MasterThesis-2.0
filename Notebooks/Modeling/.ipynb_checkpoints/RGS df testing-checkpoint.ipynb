{
 "cells": [
  {
   "cell_type": "code",
   "execution_count": 1,
   "metadata": {},
   "outputs": [],
   "source": [
    "import os\n",
    "import sys\n",
    "import pprint\n",
    "\n",
    "base_dir = 'C:\\Documents\\Thesis_ssd\\MasterThesis'\n",
    "os.chdir(base_dir)\n",
    "\n",
    "from Classes.DataProcessing.LoadData import LoadData\n",
    "from Classes.DataProcessing.BaselineHelperFunctions import BaselineHelperFunctions\n",
    "from Classes.DataProcessing.DataHandler import DataHandler\n",
    "from Classes.DataProcessing.DataGenerator import DataGenerator\n",
    "from Classes.Modeling.Models import Models\n",
    "from Classes.Modeling.RandomGridSearch import RandomGridSearch\n",
    "from Classes.Modeling.CustomCallback import CustomCallback\n",
    "from Classes.Scaling.ScalerFitter import ScalerFitter\n",
    "from Classes.Scaling.MinMaxScalerFitter import MinMaxScalerFitter\n",
    "from Classes.Scaling.StandardScalerFitter import StandardScalerFitter\n",
    "import json\n",
    "\n",
    "helper = BaselineHelperFunctions()\n",
    "%load_ext tensorboard"
   ]
  },
  {
   "cell_type": "code",
   "execution_count": 2,
   "metadata": {},
   "outputs": [],
   "source": [
    "num_classes = 2\n",
    "loadData = LoadData(num_classes, isBalanced = True)\n",
    "shuffle = False\n",
    "full_ds, train_ds, val_ds, test_ds = loadData.getDatasets(shuffle = shuffle)\n",
    "handler = DataHandler()\n",
    "pp = pprint.PrettyPrinter(indent=4)\n",
    "helper = BaselineHelperFunctions()"
   ]
  },
  {
   "cell_type": "code",
   "execution_count": 3,
   "metadata": {},
   "outputs": [],
   "source": [
    "hyper_grid = {\n",
    "        \"batch_size\" : [8, 16, 32, 64, 128, 256, 512],\n",
    "        \"epochs\" : [1],\n",
    "        \"learning_rate\" : [0.1, 0.01, 0.001, 0.0001, 0.00001],\n",
    "        \"optimizer\" : [\"adam\", \"rmsprop\", \"sgd\"]\n",
    "    }\n",
    "model_grid = {\n",
    "    \"activation\" : [\"relu\", \"sigmoid\", \"softmax\", \"tanh\"],\n",
    "    \"dropout_rate\" : [0.5, 0.4, 0.3, 0.2, 0.1, 0.01, 0],\n",
    "    \"filters\" : [11, 13, 15, 17, 19, 21, 23, 25],\n",
    "    \"kernel_size\" : [3, 5, 7, 9, 11, 13],\n",
    "    \"l1_r\" : [0.3, 0.2, 0.1, 0.01, 0.001, 0.0001],\n",
    "    \"l2_r\" : [0.3, 0.2, 0.1, 0.01, 0.001, 0.0001],\n",
    "    \"output_layer_activation\" : [\"softmax\", \"sigmoid\"],\n",
    "    \"padding\" : [\"same\"],\n",
    "    \"start_neurons\" : [8,16, 32, 64, 128, 256, 512, 1024]\n",
    "}\n",
    "\"\"\"\n",
    "{'activation': 'softmax', \n",
    " 'dropout_rate': 0.1, \n",
    " 'filters': 25, \n",
    " 'kernel_size': 9, \n",
    " 'l1_r': 0.01, \n",
    " 'l2_r': 0.0001, \n",
    " 'output_layer_activation': 'softmax', \n",
    " 'padding': 'same', \n",
    " 'start_neurons': 32}\n",
    "\"\"\"\n",
    "\n",
    "\n",
    "model_nr = 5\n",
    "\n",
    "test_mode = True\n",
    "use_scaler = False\n",
    "use_noise_augmentor = False\n",
    "detrend = False\n",
    "use_minmax = False\n",
    "use_highpass = False\n",
    "highpass_freq = 0.1\n",
    "\n",
    "n_picks = 2\n",
    "\n",
    "use_tensorboard = False\n",
    "use_liveplots = False\n",
    "use_custom_callback = False\n",
    "use_early_stopping = True"
   ]
  },
  {
   "cell_type": "code",
   "execution_count": 4,
   "metadata": {},
   "outputs": [],
   "source": [
    "randomGridSearch = RandomGridSearch(train_ds, val_ds, test_ds, model_nr, test_mode, detrend,\n",
    "                                    use_scaler, use_noise_augmentor, use_minmax, use_highpass, n_picks, \n",
    "                                    hyper_grid = hyper_grid, model_grid = model_grid, \n",
    "                                    num_classes = num_classes, use_tensorboard = use_tensorboard,\n",
    "                                    use_liveplots = use_liveplots, use_custom_callback = use_custom_callback,\n",
    "                                    use_early_stopping = use_early_stopping, highpass_freq = highpass_freq)"
   ]
  },
  {
   "cell_type": "code",
   "execution_count": 5,
   "metadata": {},
   "outputs": [
    {
     "name": "stdout",
     "output_type": "stream",
     "text": [
      "{'activation': 'softmax', 'dropout_rate': 0.01, 'filters': 23, 'kernel_size': 9, 'l1_r': 0.001, 'l2_r': 0.0001, 'output_layer_activation': 'sigmoid', 'padding': 'same', 'start_neurons': 64}\n",
      "sigmoid\n",
      "Model: \"sequential\"\n",
      "_________________________________________________________________\n",
      "Layer (type)                 Output Shape              Param #   \n",
      "=================================================================\n",
      "conv1d (Conv1D)              (128, 3, 23)              1242230   \n",
      "_________________________________________________________________\n",
      "batch_normalization (BatchNo (128, 3, 23)              92        \n",
      "_________________________________________________________________\n",
      "flatten (Flatten)            (128, 69)                 0         \n",
      "_________________________________________________________________\n",
      "dense (Dense)                (128, 2)                  140       \n",
      "=================================================================\n",
      "Total params: 1,242,462\n",
      "Trainable params: 1,242,416\n",
      "Non-trainable params: 46\n",
      "_________________________________________________________________\n",
      "Starting: \n",
      "{'batch_size': 128, 'epochs': 1, 'learning_rate': 0.0001, 'optimizer': 'adam'}\n",
      "---------------------------------------------------------------------------------\n",
      "{   'activation': 'softmax',\n",
      "    'dropout_rate': 0.01,\n",
      "    'filters': 23,\n",
      "    'kernel_size': 9,\n",
      "    'l1_r': 0.001,\n",
      "    'l2_r': 0.0001,\n",
      "    'output_layer_activation': 'sigmoid',\n",
      "    'padding': 'same',\n",
      "    'start_neurons': 64}\n",
      "8/8 [==============================] - 3s 318ms/step - loss: 7.2194 - accuracy: 0.4795 - precision: 0.4852 - recall: 0.4795 - val_loss: 6.7991 - val_accuracy: 0.4609 - val_precision: 0.4370 - val_recall: 0.4062\n",
      "WARNING:tensorflow:From C:\\Documents\\Thesis_ssd\\MasterThesis\\Classes\\Modeling\\RandomGridSearch.py:215: Model.evaluate_generator (from tensorflow.python.keras.engine.training) is deprecated and will be removed in a future version.\n",
      "Instructions for updating:\n",
      "Please use Model.evaluate, which supports generators.\n",
      "{'train_loss': 6.777656078338623, 'train_accuracy': 0.55859375, 'train_precision': 0.5523012280464172, 'train_recall': 0.515625} {'val_loss': 6.800070762634277, 'val_accuracy': 0.45364582538604736, 'val_precision': 0.4514073431491852, 'val_recall': 0.4427083432674408}\n",
      "{'activation': 'relu', 'dropout_rate': 0.5, 'filters': 15, 'kernel_size': 9, 'l1_r': 0.001, 'l2_r': 0.0001, 'output_layer_activation': 'softmax', 'padding': 'same', 'start_neurons': 32}\n",
      "softmax\n",
      "Model: \"sequential_1\"\n",
      "_________________________________________________________________\n",
      "Layer (type)                 Output Shape              Param #   \n",
      "=================================================================\n",
      "conv1d_1 (Conv1D)            (256, 3, 15)              810150    \n",
      "_________________________________________________________________\n",
      "batch_normalization_1 (Batch (256, 3, 15)              60        \n",
      "_________________________________________________________________\n",
      "flatten_1 (Flatten)          (256, 45)                 0         \n",
      "_________________________________________________________________\n",
      "dense_1 (Dense)              (256, 2)                  92        \n",
      "=================================================================\n",
      "Total params: 810,302\n",
      "Trainable params: 810,272\n",
      "Non-trainable params: 30\n",
      "_________________________________________________________________\n",
      "Starting: \n",
      "{'batch_size': 256, 'epochs': 1, 'learning_rate': 0.001, 'optimizer': 'adam'}\n",
      "---------------------------------------------------------------------------------\n",
      "{   'activation': 'relu',\n",
      "    'dropout_rate': 0.5,\n",
      "    'filters': 15,\n",
      "    'kernel_size': 9,\n",
      "    'l1_r': 0.001,\n",
      "    'l2_r': 0.0001,\n",
      "    'output_layer_activation': 'softmax',\n",
      "    'padding': 'same',\n",
      "    'start_neurons': 32}\n",
      "oof\n",
      "4/4 [==============================] - 2s 608ms/step - loss: 93.7210 - accuracy: 0.4600 - precision_1: 0.4600 - recall_1: 0.4600 - val_loss: 830.4456 - val_accuracy: 0.4727 - val_precision_1: 0.4727 - val_recall_1: 0.4727\n",
      "{'train_loss': 8.747196197509766, 'train_accuracy': 0.5380859375, 'train_precision': 0.5380859375, 'train_recall': 0.5380859375} {'val_loss': 830.4454345703125, 'val_accuracy': 0.47265625, 'val_precision': 0.47265625, 'val_recall': 0.47265625}\n",
      "----------------------------------------------------ACCURACY------------------------------------------------------\n",
      "Highest val accuracy: 0.47265625, at index: 1\n",
      "Highest training accuracy: 0.55859375, at index: 0\n",
      "----------------------------------------------------PRECISION-----------------------------------------------------\n",
      "Highest val precision: 0.47265625, at index: 1\n",
      "Highest training precision: 0.5523012280464172, at index: 0\n",
      "-----------------------------------------------------RECALL-------------------------------------------------------\n",
      "Highest val recall: 0.47265625, at index: 1\n",
      "Highest training recall: 0.5380859375, at index: 1\n",
      "------------------------------------------------------------------------------------------------------------------\n"
     ]
    }
   ],
   "source": [
    "results, highest_test_accuracy_index, highest_train_accuracy_index, highest_test_precision_index, highest_test_recall_index= randomGridSearch.fit()"
   ]
  },
  {
   "cell_type": "code",
   "execution_count": 6,
   "metadata": {},
   "outputs": [],
   "source": [
    "results_df = randomGridSearch.results_df.copy()"
   ]
  },
  {
   "cell_type": "code",
   "execution_count": 34,
   "metadata": {},
   "outputs": [
    {
     "data": {
      "text/html": [
       "<div>\n",
       "<style scoped>\n",
       "    .dataframe tbody tr th:only-of-type {\n",
       "        vertical-align: middle;\n",
       "    }\n",
       "\n",
       "    .dataframe tbody tr th {\n",
       "        vertical-align: top;\n",
       "    }\n",
       "\n",
       "    .dataframe thead th {\n",
       "        text-align: right;\n",
       "    }\n",
       "</style>\n",
       "<table border=\"1\" class=\"dataframe\">\n",
       "  <thead>\n",
       "    <tr style=\"text-align: right;\">\n",
       "      <th></th>\n",
       "      <th>batch_size</th>\n",
       "      <th>epochs</th>\n",
       "      <th>learning_rate</th>\n",
       "      <th>optimizer</th>\n",
       "      <th>activation</th>\n",
       "      <th>dropout_rate</th>\n",
       "      <th>filters</th>\n",
       "      <th>kernel_size</th>\n",
       "      <th>l1_r</th>\n",
       "      <th>l2_r</th>\n",
       "      <th>...</th>\n",
       "      <th>padding</th>\n",
       "      <th>start_neurons</th>\n",
       "      <th>train_loss</th>\n",
       "      <th>train_accuracy</th>\n",
       "      <th>train_precision</th>\n",
       "      <th>train_recall</th>\n",
       "      <th>val_loss</th>\n",
       "      <th>val_accuracy</th>\n",
       "      <th>val_precision</th>\n",
       "      <th>val_recall</th>\n",
       "    </tr>\n",
       "  </thead>\n",
       "  <tbody>\n",
       "    <tr>\n",
       "      <th>0</th>\n",
       "      <td>128</td>\n",
       "      <td>1</td>\n",
       "      <td>0.0001</td>\n",
       "      <td>adam</td>\n",
       "      <td>softmax</td>\n",
       "      <td>0.01</td>\n",
       "      <td>23</td>\n",
       "      <td>9</td>\n",
       "      <td>0.001</td>\n",
       "      <td>0.0001</td>\n",
       "      <td>...</td>\n",
       "      <td>same</td>\n",
       "      <td>64</td>\n",
       "      <td>6.777656</td>\n",
       "      <td>0.558594</td>\n",
       "      <td>0.552301</td>\n",
       "      <td>0.515625</td>\n",
       "      <td>6.800071</td>\n",
       "      <td>0.453646</td>\n",
       "      <td>0.451407</td>\n",
       "      <td>0.442708</td>\n",
       "    </tr>\n",
       "    <tr>\n",
       "      <th>1</th>\n",
       "      <td>256</td>\n",
       "      <td>1</td>\n",
       "      <td>0.001</td>\n",
       "      <td>adam</td>\n",
       "      <td>relu</td>\n",
       "      <td>0.5</td>\n",
       "      <td>15</td>\n",
       "      <td>9</td>\n",
       "      <td>0.001</td>\n",
       "      <td>0.0001</td>\n",
       "      <td>...</td>\n",
       "      <td>same</td>\n",
       "      <td>32</td>\n",
       "      <td>8.747196</td>\n",
       "      <td>0.538086</td>\n",
       "      <td>0.538086</td>\n",
       "      <td>0.538086</td>\n",
       "      <td>830.445435</td>\n",
       "      <td>0.472656</td>\n",
       "      <td>0.472656</td>\n",
       "      <td>0.472656</td>\n",
       "    </tr>\n",
       "  </tbody>\n",
       "</table>\n",
       "<p>2 rows × 21 columns</p>\n",
       "</div>"
      ],
      "text/plain": [
       "  batch_size epochs learning_rate optimizer activation dropout_rate filters  \\\n",
       "0        128      1        0.0001      adam    softmax         0.01      23   \n",
       "1        256      1         0.001      adam       relu          0.5      15   \n",
       "\n",
       "  kernel_size   l1_r    l2_r  ... padding start_neurons train_loss  \\\n",
       "0           9  0.001  0.0001  ...    same            64   6.777656   \n",
       "1           9  0.001  0.0001  ...    same            32   8.747196   \n",
       "\n",
       "   train_accuracy  train_precision  train_recall    val_loss  val_accuracy  \\\n",
       "0        0.558594         0.552301      0.515625    6.800071      0.453646   \n",
       "1        0.538086         0.538086      0.538086  830.445435      0.472656   \n",
       "\n",
       "   val_precision  val_recall  \n",
       "0       0.451407    0.442708  \n",
       "1       0.472656    0.472656  \n",
       "\n",
       "[2 rows x 21 columns]"
      ]
     },
     "execution_count": 34,
     "metadata": {},
     "output_type": "execute_result"
    }
   ],
   "source": [
    "results_df"
   ]
  },
  {
   "cell_type": "code",
   "execution_count": 30,
   "metadata": {},
   "outputs": [],
   "source": [
    "train_loss = results_df.columns.get_loc('train_loss')\n",
    "metrics_df = results_df[results_df.columns[train_loss:]]\n"
   ]
  },
  {
   "cell_type": "code",
   "execution_count": 36,
   "metadata": {},
   "outputs": [
    {
     "data": {
      "text/plain": [
       "6.777656078338623"
      ]
     },
     "execution_count": 36,
     "metadata": {},
     "output_type": "execute_result"
    }
   ],
   "source": [
    "min(metrics_df['train_loss'])"
   ]
  },
  {
   "cell_type": "code",
   "execution_count": 42,
   "metadata": {},
   "outputs": [
    {
     "data": {
      "text/plain": [
       "0"
      ]
     },
     "execution_count": 42,
     "metadata": {},
     "output_type": "execute_result"
    }
   ],
   "source": [
    "metrics_df[metrics_df['train_loss'] == min(metrics_df['train_loss'])].index[0]"
   ]
  },
  {
   "cell_type": "code",
   "execution_count": 28,
   "metadata": {},
   "outputs": [
    {
     "data": {
      "text/plain": [
       "0      6.800071\n",
       "1    830.445435\n",
       "dtype: float64"
      ]
     },
     "execution_count": 28,
     "metadata": {},
     "output_type": "execute_result"
    }
   ],
   "source": [
    "max_values"
   ]
  },
  {
   "cell_type": "code",
   "execution_count": 43,
   "metadata": {},
   "outputs": [],
   "source": [
    "def find_best_performers(results_df):\n",
    "    train_loss_index = results_df.columns.get_loc('train_loss')\n",
    "    metrics = results_df[results_df.columns[train_loss_index:]]\n",
    "    min_loss = {'train_loss' : min(metrics['train_loss']), 'val_loss' : min(metrics['val_loss']), \n",
    "                'train_index' : metrics_df[metrics_df['train_loss'] == min(metrics_df['train_loss'])].index[0], \n",
    "                'val_index' : metrics_df[metrics_df['val_loss'] == min(metrics_df['val_loss'])].index[0]}\n",
    "    \n",
    "    max_accuracy = {'train_accuracy' : max(metrics['train_accuracy']), 'val_accuracy' : max(metrics['val_accuracy']), \n",
    "                    'train_index' : metrics_df[metrics_df['train_accuracy'] == max(metrics_df['train_accuracy'])].index[0], \n",
    "                    'val_index' : metrics_df[metrics_df['val_accuracy'] == max(metrics_df['val_accuracy'])].index[0]}\n",
    "    \n",
    "    max_precision = {'train_precision' : max(metrics['train_precision']), 'val_precision' : max(metrics['val_precision']), \n",
    "                     'train_index' : metrics_df[metrics_df['train_precision'] == max(metrics_df['train_precision'])].index[0], \n",
    "                     'val_index' : metrics_df[metrics_df['val_precision'] == max(metrics_df['val_precision'])].index[0]}\n",
    "    \n",
    "    max_recall = {'train_recall' : max(metrics['train_recall']), 'val_recall' : max(metrics['train_recall']), \n",
    "                  'train_index' : metrics_df[metrics_df['train_recall'] == max(metrics_df['train_recall'])].index[0], \n",
    "                  'val_index' : metrics_df[metrics_df['val_recall'] == max(metrics_df['val_recall'])].index[0]}\n",
    "    \n",
    "    return min_loss, max_accuracy, max_precision, max_recall\n",
    "    "
   ]
  },
  {
   "cell_type": "code",
   "execution_count": 44,
   "metadata": {},
   "outputs": [
    {
     "ename": "NameError",
     "evalue": "name 'etrics_df' is not defined",
     "output_type": "error",
     "traceback": [
      "\u001b[1;31m---------------------------------------------------------------------------\u001b[0m",
      "\u001b[1;31mNameError\u001b[0m                                 Traceback (most recent call last)",
      "\u001b[1;32m<ipython-input-44-c8dcfcb8d530>\u001b[0m in \u001b[0;36m<module>\u001b[1;34m\u001b[0m\n\u001b[1;32m----> 1\u001b[1;33m \u001b[0mfind_best_performers\u001b[0m\u001b[1;33m(\u001b[0m\u001b[0mresults_df\u001b[0m\u001b[1;33m)\u001b[0m\u001b[1;33m\u001b[0m\u001b[1;33m\u001b[0m\u001b[0m\n\u001b[0m",
      "\u001b[1;32m<ipython-input-43-bfe956c4d8e9>\u001b[0m in \u001b[0;36mfind_best_performers\u001b[1;34m(results_df)\u001b[0m\n\u001b[0;32m     12\u001b[0m     max_precision = {'train_precision' : max(metrics['train_precision']), 'val_precision' : max(metrics['val_precision']), \n\u001b[0;32m     13\u001b[0m                      \u001b[1;34m'train_index'\u001b[0m \u001b[1;33m:\u001b[0m \u001b[0mmetrics_df\u001b[0m\u001b[1;33m[\u001b[0m\u001b[0mmetrics_df\u001b[0m\u001b[1;33m[\u001b[0m\u001b[1;34m'train_precision'\u001b[0m\u001b[1;33m]\u001b[0m \u001b[1;33m==\u001b[0m \u001b[0mmax\u001b[0m\u001b[1;33m(\u001b[0m\u001b[0mmetrics_df\u001b[0m\u001b[1;33m[\u001b[0m\u001b[1;34m'train_precision'\u001b[0m\u001b[1;33m]\u001b[0m\u001b[1;33m)\u001b[0m\u001b[1;33m]\u001b[0m\u001b[1;33m.\u001b[0m\u001b[0mindex\u001b[0m\u001b[1;33m[\u001b[0m\u001b[1;36m0\u001b[0m\u001b[1;33m]\u001b[0m\u001b[1;33m,\u001b[0m\u001b[1;33m\u001b[0m\u001b[1;33m\u001b[0m\u001b[0m\n\u001b[1;32m---> 14\u001b[1;33m                      'val_index' : etrics_df[metrics_df['val_precision'] == max(metrics_df['val_precision'])].index[0]}\n\u001b[0m\u001b[0;32m     15\u001b[0m \u001b[1;33m\u001b[0m\u001b[0m\n\u001b[0;32m     16\u001b[0m     max_recall = {'train_recall' : max(metrics['train_recall']), 'val_recall' : max(metrics['train_recall']), \n",
      "\u001b[1;31mNameError\u001b[0m: name 'etrics_df' is not defined"
     ]
    }
   ],
   "source": [
    "find_best_performers(results_df)"
   ]
  },
  {
   "cell_type": "code",
   "execution_count": 10,
   "metadata": {},
   "outputs": [
    {
     "name": "stdout",
     "output_type": "stream",
     "text": [
      "1\n"
     ]
    }
   ],
   "source": [
    "ex = {\"A\" : 1,\n",
    "      \"B\" : 2}\n",
    "print(ex[\"A\"])\n",
    "\n",
    "keys = list(hyper_grid.keys())\n",
    "keys2 = list(model_grid.keys())"
   ]
  },
  {
   "cell_type": "code",
   "execution_count": 11,
   "metadata": {},
   "outputs": [
    {
     "name": "stdout",
     "output_type": "stream",
     "text": [
      "['batch_size', 'epochs', 'learning_rate', 'optimizer']\n",
      "['activation', 'dropout_rate', 'filters', 'kernel_size', 'l1_r', 'l2_r', 'output_layer_activation', 'padding', 'start_neurons']\n"
     ]
    }
   ],
   "source": [
    "print(keys)\n",
    "print(keys2)"
   ]
  },
  {
   "cell_type": "code",
   "execution_count": 12,
   "metadata": {},
   "outputs": [
    {
     "data": {
      "text/plain": [
       "'batch_size'"
      ]
     },
     "execution_count": 12,
     "metadata": {},
     "output_type": "execute_result"
    }
   ],
   "source": [
    "keys[0]"
   ]
  },
  {
   "cell_type": "code",
   "execution_count": 13,
   "metadata": {},
   "outputs": [],
   "source": [
    "import numpy as np\n",
    "import pandas as pd\n",
    "hyper_keys = list(hyper_grid.keys())\n",
    "model_keys = list(model_grid.keys())\n",
    "metrics_train_keys = [\"train_loss\", \"train_accuracy\", \"train_presicion\", \"train_recall\"]\n",
    "metrics_val_keys = [\"val_loss\", \"val_accuracy\", \"val_presicion\", \"val_recall\"]\n",
    "header = np.concatenate((hyper_keys, model_keys, metrics_train_keys, metrics_val_keys))\n",
    "info_table = pd.DataFrame(np.array([i for i in range(len(header))]).reshape(1, 21) ,columns = header)"
   ]
  },
  {
   "cell_type": "code",
   "execution_count": 14,
   "metadata": {},
   "outputs": [
    {
     "data": {
      "text/html": [
       "<div>\n",
       "<style scoped>\n",
       "    .dataframe tbody tr th:only-of-type {\n",
       "        vertical-align: middle;\n",
       "    }\n",
       "\n",
       "    .dataframe tbody tr th {\n",
       "        vertical-align: top;\n",
       "    }\n",
       "\n",
       "    .dataframe thead th {\n",
       "        text-align: right;\n",
       "    }\n",
       "</style>\n",
       "<table border=\"1\" class=\"dataframe\">\n",
       "  <thead>\n",
       "    <tr style=\"text-align: right;\">\n",
       "      <th></th>\n",
       "      <th>batch_size</th>\n",
       "      <th>epochs</th>\n",
       "      <th>learning_rate</th>\n",
       "      <th>optimizer</th>\n",
       "      <th>activation</th>\n",
       "      <th>dropout_rate</th>\n",
       "      <th>filters</th>\n",
       "      <th>kernel_size</th>\n",
       "      <th>l1_r</th>\n",
       "      <th>l2_r</th>\n",
       "      <th>...</th>\n",
       "      <th>padding</th>\n",
       "      <th>start_neurons</th>\n",
       "      <th>train_loss</th>\n",
       "      <th>train_accuracy</th>\n",
       "      <th>train_presicion</th>\n",
       "      <th>train_recall</th>\n",
       "      <th>val_loss</th>\n",
       "      <th>val_accuracy</th>\n",
       "      <th>val_presicion</th>\n",
       "      <th>val_recall</th>\n",
       "    </tr>\n",
       "  </thead>\n",
       "  <tbody>\n",
       "    <tr>\n",
       "      <th>0</th>\n",
       "      <td>0</td>\n",
       "      <td>1</td>\n",
       "      <td>2</td>\n",
       "      <td>3</td>\n",
       "      <td>4</td>\n",
       "      <td>5</td>\n",
       "      <td>6</td>\n",
       "      <td>7</td>\n",
       "      <td>8</td>\n",
       "      <td>9</td>\n",
       "      <td>...</td>\n",
       "      <td>11</td>\n",
       "      <td>12</td>\n",
       "      <td>13</td>\n",
       "      <td>14</td>\n",
       "      <td>15</td>\n",
       "      <td>16</td>\n",
       "      <td>17</td>\n",
       "      <td>18</td>\n",
       "      <td>19</td>\n",
       "      <td>20</td>\n",
       "    </tr>\n",
       "  </tbody>\n",
       "</table>\n",
       "<p>1 rows × 21 columns</p>\n",
       "</div>"
      ],
      "text/plain": [
       "   batch_size  epochs  learning_rate  optimizer  activation  dropout_rate  \\\n",
       "0           0       1              2          3           4             5   \n",
       "\n",
       "   filters  kernel_size  l1_r  l2_r  ...  padding  start_neurons  train_loss  \\\n",
       "0        6            7     8     9  ...       11             12          13   \n",
       "\n",
       "   train_accuracy  train_presicion  train_recall  val_loss  val_accuracy  \\\n",
       "0              14               15            16        17            18   \n",
       "\n",
       "   val_presicion  val_recall  \n",
       "0             19          20  \n",
       "\n",
       "[1 rows x 21 columns]"
      ]
     },
     "execution_count": 14,
     "metadata": {},
     "output_type": "execute_result"
    }
   ],
   "source": [
    "info_table"
   ]
  },
  {
   "cell_type": "code",
   "execution_count": 15,
   "metadata": {},
   "outputs": [],
   "source": [
    "testing = pd.DataFrame([[0, np.nan]], columns = [\"a\", \"b\"])"
   ]
  },
  {
   "cell_type": "code",
   "execution_count": 16,
   "metadata": {},
   "outputs": [
    {
     "name": "stdout",
     "output_type": "stream",
     "text": [
      "   a  b\n",
      "0  0  1\n"
     ]
    },
    {
     "data": {
      "text/html": [
       "<div>\n",
       "<style scoped>\n",
       "    .dataframe tbody tr th:only-of-type {\n",
       "        vertical-align: middle;\n",
       "    }\n",
       "\n",
       "    .dataframe tbody tr th {\n",
       "        vertical-align: top;\n",
       "    }\n",
       "\n",
       "    .dataframe thead th {\n",
       "        text-align: right;\n",
       "    }\n",
       "</style>\n",
       "<table border=\"1\" class=\"dataframe\">\n",
       "  <thead>\n",
       "    <tr style=\"text-align: right;\">\n",
       "      <th></th>\n",
       "      <th>a</th>\n",
       "      <th>b</th>\n",
       "    </tr>\n",
       "  </thead>\n",
       "  <tbody>\n",
       "    <tr>\n",
       "      <th>0</th>\n",
       "      <td>0</td>\n",
       "      <td>NaN</td>\n",
       "    </tr>\n",
       "    <tr>\n",
       "      <th>0</th>\n",
       "      <td>0</td>\n",
       "      <td>1.0</td>\n",
       "    </tr>\n",
       "  </tbody>\n",
       "</table>\n",
       "</div>"
      ],
      "text/plain": [
       "   a    b\n",
       "0  0  NaN\n",
       "0  0  1.0"
      ]
     },
     "execution_count": 16,
     "metadata": {},
     "output_type": "execute_result"
    }
   ],
   "source": [
    "to_add = pd.DataFrame(np.array([0 ,1]).reshape(1,2), columns = [\"a\", \"b\"])\n",
    "print(to_add)\n",
    "testing = testing.append(to_add)\n",
    "testing"
   ]
  },
  {
   "cell_type": "code",
   "execution_count": 17,
   "metadata": {},
   "outputs": [],
   "source": [
    "nan_columns = testing.columns[testing.isnull().any()].tolist()"
   ]
  },
  {
   "cell_type": "code",
   "execution_count": 18,
   "metadata": {},
   "outputs": [
    {
     "ename": "NameError",
     "evalue": "name 'temp_df' is not defined",
     "output_type": "error",
     "traceback": [
      "\u001b[1;31m---------------------------------------------------------------------------\u001b[0m",
      "\u001b[1;31mNameError\u001b[0m                                 Traceback (most recent call last)",
      "\u001b[1;32m<ipython-input-18-be85eaa12f78>\u001b[0m in \u001b[0;36m<module>\u001b[1;34m\u001b[0m\n\u001b[1;32m----> 1\u001b[1;33m \u001b[0mtemp_df\u001b[0m\u001b[1;33m\u001b[0m\u001b[1;33m\u001b[0m\u001b[0m\n\u001b[0m",
      "\u001b[1;31mNameError\u001b[0m: name 'temp_df' is not defined"
     ]
    }
   ],
   "source": [
    "temp_df"
   ]
  },
  {
   "cell_type": "code",
   "execution_count": null,
   "metadata": {},
   "outputs": [],
   "source": [
    "nan_columns = temp_df.columns[temp_df.isna().any()].tolist()"
   ]
  },
  {
   "cell_type": "code",
   "execution_count": null,
   "metadata": {},
   "outputs": [],
   "source": [
    "nan_cols = [i for i in temp_df.columns if pd.isnull(temp_df[i].values)]"
   ]
  },
  {
   "cell_type": "code",
   "execution_count": null,
   "metadata": {},
   "outputs": [],
   "source": [
    "for column in temp_df.columns:\n",
    "    print(temp_df[column].values)"
   ]
  },
  {
   "cell_type": "code",
   "execution_count": null,
   "metadata": {},
   "outputs": [],
   "source": []
  },
  {
   "cell_type": "code",
   "execution_count": null,
   "metadata": {},
   "outputs": [],
   "source": [
    "temp_df['val_loss'].dtype"
   ]
  },
  {
   "cell_type": "code",
   "execution_count": null,
   "metadata": {},
   "outputs": [],
   "source": []
  }
 ],
 "metadata": {
  "kernelspec": {
   "display_name": "Python 3",
   "language": "python",
   "name": "python3"
  },
  "language_info": {
   "codemirror_mode": {
    "name": "ipython",
    "version": 3
   },
   "file_extension": ".py",
   "mimetype": "text/x-python",
   "name": "python",
   "nbconvert_exporter": "python",
   "pygments_lexer": "ipython3",
   "version": "3.8.3"
  }
 },
 "nbformat": 4,
 "nbformat_minor": 4
}
