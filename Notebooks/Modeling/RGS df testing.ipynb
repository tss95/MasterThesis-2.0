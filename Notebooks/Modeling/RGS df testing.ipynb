{
 "cells": [
  {
   "cell_type": "code",
   "execution_count": 13,
   "metadata": {},
   "outputs": [
    {
     "ename": "ImportError",
     "evalue": "cannot import name 'GirdSearchResultProcessor' from 'Classes.Modeling.GridSearchResultProcessor' (C:\\Documents\\Thesis_ssd\\MasterThesis\\Classes\\Modeling\\GridSearchResultProcessor.py)",
     "output_type": "error",
     "traceback": [
      "\u001b[1;31m---------------------------------------------------------------------------\u001b[0m",
      "\u001b[1;31mImportError\u001b[0m                               Traceback (most recent call last)",
      "\u001b[1;32m<ipython-input-13-c6e310d7fd80>\u001b[0m in \u001b[0;36m<module>\u001b[1;34m\u001b[0m\n\u001b[0;32m     12\u001b[0m \u001b[1;32mfrom\u001b[0m \u001b[0mClasses\u001b[0m\u001b[1;33m.\u001b[0m\u001b[0mModeling\u001b[0m\u001b[1;33m.\u001b[0m\u001b[0mModels\u001b[0m \u001b[1;32mimport\u001b[0m \u001b[0mModels\u001b[0m\u001b[1;33m\u001b[0m\u001b[1;33m\u001b[0m\u001b[0m\n\u001b[0;32m     13\u001b[0m \u001b[1;32mfrom\u001b[0m \u001b[0mClasses\u001b[0m\u001b[1;33m.\u001b[0m\u001b[0mModeling\u001b[0m\u001b[1;33m.\u001b[0m\u001b[0mRandomGridSearch\u001b[0m \u001b[1;32mimport\u001b[0m \u001b[0mRandomGridSearch\u001b[0m\u001b[1;33m\u001b[0m\u001b[1;33m\u001b[0m\u001b[0m\n\u001b[1;32m---> 14\u001b[1;33m \u001b[1;32mfrom\u001b[0m \u001b[0mClasses\u001b[0m\u001b[1;33m.\u001b[0m\u001b[0mModeling\u001b[0m\u001b[1;33m.\u001b[0m\u001b[0mGridSearchResultProcessor\u001b[0m \u001b[1;32mimport\u001b[0m \u001b[0mGirdSearchResultProcessor\u001b[0m\u001b[1;33m\u001b[0m\u001b[1;33m\u001b[0m\u001b[0m\n\u001b[0m\u001b[0;32m     15\u001b[0m \u001b[1;32mfrom\u001b[0m \u001b[0mClasses\u001b[0m\u001b[1;33m.\u001b[0m\u001b[0mModeling\u001b[0m\u001b[1;33m.\u001b[0m\u001b[0mCustomCallback\u001b[0m \u001b[1;32mimport\u001b[0m \u001b[0mCustomCallback\u001b[0m\u001b[1;33m\u001b[0m\u001b[1;33m\u001b[0m\u001b[0m\n\u001b[0;32m     16\u001b[0m \u001b[1;32mfrom\u001b[0m \u001b[0mClasses\u001b[0m\u001b[1;33m.\u001b[0m\u001b[0mScaling\u001b[0m\u001b[1;33m.\u001b[0m\u001b[0mScalerFitter\u001b[0m \u001b[1;32mimport\u001b[0m \u001b[0mScalerFitter\u001b[0m\u001b[1;33m\u001b[0m\u001b[1;33m\u001b[0m\u001b[0m\n",
      "\u001b[1;31mImportError\u001b[0m: cannot import name 'GirdSearchResultProcessor' from 'Classes.Modeling.GridSearchResultProcessor' (C:\\Documents\\Thesis_ssd\\MasterThesis\\Classes\\Modeling\\GridSearchResultProcessor.py)"
     ]
    }
   ],
   "source": [
    "import os\n",
    "import sys\n",
    "import pprint\n",
    "\n",
    "base_dir = 'C:\\Documents\\Thesis_ssd\\MasterThesis'\n",
    "os.chdir(base_dir)\n",
    "\n",
    "from Classes.DataProcessing.LoadData import LoadData\n",
    "from Classes.DataProcessing.BaselineHelperFunctions import BaselineHelperFunctions\n",
    "from Classes.DataProcessing.DataHandler import DataHandler\n",
    "from Classes.DataProcessing.DataGenerator import DataGenerator\n",
    "from Classes.Modeling.Models import Models\n",
    "from Classes.Modeling.RandomGridSearch import RandomGridSearch\n",
    "from Classes.Modeling.CustomCallback import CustomCallback\n",
    "from Classes.Scaling.ScalerFitter import ScalerFitter\n",
    "from Classes.Scaling.MinMaxScalerFitter import MinMaxScalerFitter\n",
    "from Classes.Scaling.StandardScalerFitter import StandardScalerFitter\n",
    "import json\n",
    "\n",
    "helper = BaselineHelperFunctions()\n",
    "%load_ext tensorboard"
   ]
  },
  {
   "cell_type": "code",
   "execution_count": 2,
   "metadata": {},
   "outputs": [],
   "source": [
    "num_classes = 2\n",
    "loadData = LoadData(num_classes, isBalanced = True)\n",
    "shuffle = False\n",
    "full_ds, train_ds, val_ds, test_ds = loadData.getDatasets(shuffle = shuffle)\n",
    "handler = DataHandler()\n",
    "pp = pprint.PrettyPrinter(indent=4)\n",
    "helper = BaselineHelperFunctions()"
   ]
  },
  {
   "cell_type": "code",
   "execution_count": 3,
   "metadata": {},
   "outputs": [],
   "source": [
    "hyper_grid = {\n",
    "        \"batch_size\" : [8, 16, 32, 64, 128, 256, 512],\n",
    "        \"epochs\" : [1],\n",
    "        \"learning_rate\" : [0.1, 0.01, 0.001, 0.0001, 0.00001],\n",
    "        \"optimizer\" : [\"adam\", \"rmsprop\", \"sgd\"]\n",
    "    }\n",
    "model_grid = {\n",
    "    \"activation\" : [\"relu\", \"sigmoid\", \"softmax\", \"tanh\"],\n",
    "    \"dropout_rate\" : [0.5, 0.4, 0.3, 0.2, 0.1, 0.01, 0],\n",
    "    \"filters\" : [11, 13, 15, 17, 19, 21, 23, 25],\n",
    "    \"kernel_size\" : [3, 5, 7, 9, 11, 13],\n",
    "    \"l1_r\" : [0.3, 0.2, 0.1, 0.01, 0.001, 0.0001],\n",
    "    \"l2_r\" : [0.3, 0.2, 0.1, 0.01, 0.001, 0.0001],\n",
    "    \"output_layer_activation\" : [\"softmax\", \"sigmoid\"],\n",
    "    \"padding\" : [\"same\"],\n",
    "    \"start_neurons\" : [8,16, 32, 64, 128, 256, 512, 1024]\n",
    "}\n",
    "\"\"\"\n",
    "{'activation': 'softmax', \n",
    " 'dropout_rate': 0.1, \n",
    " 'filters': 25, \n",
    " 'kernel_size': 9, \n",
    " 'l1_r': 0.01, \n",
    " 'l2_r': 0.0001, \n",
    " 'output_layer_activation': 'softmax', \n",
    " 'padding': 'same', \n",
    " 'start_neurons': 32}\n",
    "\"\"\"\n",
    "\n",
    "\n",
    "model_nr = 5\n",
    "\n",
    "test_mode = True\n",
    "use_scaler = False\n",
    "use_noise_augmentor = False\n",
    "detrend = False\n",
    "use_minmax = False\n",
    "use_highpass = False\n",
    "highpass_freq = 0.1\n",
    "\n",
    "n_picks = 2\n",
    "\n",
    "use_tensorboard = False\n",
    "use_liveplots = False\n",
    "use_custom_callback = False\n",
    "use_early_stopping = True"
   ]
  },
  {
   "cell_type": "code",
   "execution_count": 4,
   "metadata": {},
   "outputs": [],
   "source": [
    "randomGridSearch = RandomGridSearch(train_ds, val_ds, test_ds, model_nr, test_mode, detrend,\n",
    "                                    use_scaler, use_noise_augmentor, use_minmax, use_highpass, n_picks, \n",
    "                                    hyper_grid = hyper_grid, model_grid = model_grid, \n",
    "                                    num_classes = num_classes, use_tensorboard = use_tensorboard,\n",
    "                                    use_liveplots = use_liveplots, use_custom_callback = use_custom_callback,\n",
    "                                    use_early_stopping = use_early_stopping, highpass_freq = highpass_freq)"
   ]
  },
  {
   "cell_type": "code",
   "execution_count": 5,
   "metadata": {},
   "outputs": [
    {
     "name": "stdout",
     "output_type": "stream",
     "text": [
      "{'activation': 'relu', 'dropout_rate': 0.01, 'filters': 13, 'kernel_size': 9, 'l1_r': 0.0001, 'l2_r': 0.0001, 'output_layer_activation': 'softmax', 'padding': 'same', 'start_neurons': 256}\n",
      "softmax\n",
      "Model: \"sequential\"\n",
      "_________________________________________________________________\n",
      "Layer (type)                 Output Shape              Param #   \n",
      "=================================================================\n",
      "conv1d (Conv1D)              (8, 3, 13)                702130    \n",
      "_________________________________________________________________\n",
      "batch_normalization (BatchNo (8, 3, 13)                52        \n",
      "_________________________________________________________________\n",
      "flatten (Flatten)            (8, 39)                   0         \n",
      "_________________________________________________________________\n",
      "dense (Dense)                (8, 2)                    80        \n",
      "=================================================================\n",
      "Total params: 702,262\n",
      "Trainable params: 702,236\n",
      "Non-trainable params: 26\n",
      "_________________________________________________________________\n",
      "Starting: \n",
      "{'batch_size': 8, 'epochs': 1, 'learning_rate': 0.01, 'optimizer': 'adam'}\n",
      "---------------------------------------------------------------------------------\n",
      "{   'activation': 'relu',\n",
      "    'dropout_rate': 0.01,\n",
      "    'filters': 13,\n",
      "    'kernel_size': 9,\n",
      "    'l1_r': 0.0001,\n",
      "    'l2_r': 0.0001,\n",
      "    'output_layer_activation': 'softmax',\n",
      "    'padding': 'same',\n",
      "    'start_neurons': 256}\n",
      "137/137 [==============================] - 3s 24ms/step - loss: 20013.0273 - accuracy: 0.5575 - precision: 0.5575 - recall: 0.5575 - val_loss: 1776693.3750 - val_accuracy: 0.6196 - val_precision: 0.6196 - val_recall: 0.6196\n",
      "WARNING:tensorflow:From C:\\Documents\\Thesis_ssd\\MasterThesis\\Classes\\Modeling\\RandomGridSearch.py:214: Model.evaluate_generator (from tensorflow.python.keras.engine.training) is deprecated and will be removed in a future version.\n",
      "Instructions for updating:\n",
      "Please use Model.evaluate, which supports generators.\n",
      "{'train_loss': 2630.7314453125, 'train_accuracy': 0.5729926824569702, 'train_precision': 0.5729926824569702, 'train_recall': 0.5729926824569702} {'val_loss': 1702677.75, 'val_accuracy': 0.6145833134651184, 'val_precision': 0.6145833134651184, 'val_recall': 0.6145833134651184}\n",
      "{'activation': 'relu', 'dropout_rate': 0.01, 'filters': 17, 'kernel_size': 5, 'l1_r': 0.0001, 'l2_r': 0.01, 'output_layer_activation': 'sigmoid', 'padding': 'same', 'start_neurons': 256}\n",
      "sigmoid\n",
      "Model: \"sequential_1\"\n",
      "_________________________________________________________________\n",
      "Layer (type)                 Output Shape              Param #   \n",
      "=================================================================\n",
      "conv1d_1 (Conv1D)            (256, 3, 17)              510102    \n",
      "_________________________________________________________________\n",
      "batch_normalization_1 (Batch (256, 3, 17)              68        \n",
      "_________________________________________________________________\n",
      "flatten_1 (Flatten)          (256, 51)                 0         \n",
      "_________________________________________________________________\n",
      "dense_1 (Dense)              (256, 2)                  104       \n",
      "=================================================================\n",
      "Total params: 510,274\n",
      "Trainable params: 510,240\n",
      "Non-trainable params: 34\n",
      "_________________________________________________________________\n",
      "Starting: \n",
      "{'batch_size': 256, 'epochs': 1, 'learning_rate': 0.01, 'optimizer': 'rmsprop'}\n",
      "---------------------------------------------------------------------------------\n",
      "{   'activation': 'relu',\n",
      "    'dropout_rate': 0.01,\n",
      "    'filters': 17,\n",
      "    'kernel_size': 5,\n",
      "    'l1_r': 0.0001,\n",
      "    'l2_r': 0.01,\n",
      "    'output_layer_activation': 'sigmoid',\n",
      "    'padding': 'same',\n",
      "    'start_neurons': 256}\n",
      "oof\n",
      "4/4 [==============================] - 2s 606ms/step - loss: 390317.5312 - accuracy: 0.5596 - precision_1: 0.5509 - recall_1: 0.5977 - val_loss: 16574630.0000 - val_accuracy: 0.5352 - val_precision_1: 0.5208 - val_recall_1: 0.5391\n",
      "{'train_loss': 326103.65625, 'train_accuracy': 0.4990234375, 'train_precision': 0.49715369939804077, 'train_recall': 0.51171875} {'val_loss': 16574631.0, 'val_accuracy': 0.53515625, 'val_precision': 0.5207546949386597, 'val_recall': 0.5390625}\n",
      "----------------------------------------------------LOSS----------------------------------------------------------\n",
      "Min val loss: 1702677.75, at index: 0\n",
      "Min training loss: 2630.7314453125, at index: 0\n",
      "----------------------------------------------------ACCURACY------------------------------------------------------\n",
      "Highest val accuracy: 0.6145833134651184, at index: 0\n",
      "Highest training accuracy: 0.5729926824569702, at index: 0\n",
      "----------------------------------------------------PRECISION-----------------------------------------------------\n",
      "Highest val precision: 0.6145833134651184, at index: 0\n",
      "Highest training precision: 0.5729926824569702, at index: 0\n",
      "-----------------------------------------------------RECALL-------------------------------------------------------\n",
      "Highest val recall: 0.5729926824569702, at index: 0\n",
      "Highest training recall: 0.5729926824569702, at index: 0\n",
      "------------------------------------------------------------------------------------------------------------------\n"
     ]
    }
   ],
   "source": [
    "results, highest_test_accuracy_index, highest_train_accuracy_index, highest_test_precision_index, highest_test_recall_index= randomGridSearch.fit()"
   ]
  },
  {
   "cell_type": "code",
   "execution_count": 6,
   "metadata": {},
   "outputs": [],
   "source": [
    "results_df = randomGridSearch.results_df.copy()"
   ]
  },
  {
   "cell_type": "code",
   "execution_count": 7,
   "metadata": {},
   "outputs": [
    {
     "data": {
      "text/html": [
       "<div>\n",
       "<style scoped>\n",
       "    .dataframe tbody tr th:only-of-type {\n",
       "        vertical-align: middle;\n",
       "    }\n",
       "\n",
       "    .dataframe tbody tr th {\n",
       "        vertical-align: top;\n",
       "    }\n",
       "\n",
       "    .dataframe thead th {\n",
       "        text-align: right;\n",
       "    }\n",
       "</style>\n",
       "<table border=\"1\" class=\"dataframe\">\n",
       "  <thead>\n",
       "    <tr style=\"text-align: right;\">\n",
       "      <th></th>\n",
       "      <th>batch_size</th>\n",
       "      <th>epochs</th>\n",
       "      <th>learning_rate</th>\n",
       "      <th>optimizer</th>\n",
       "      <th>activation</th>\n",
       "      <th>dropout_rate</th>\n",
       "      <th>filters</th>\n",
       "      <th>kernel_size</th>\n",
       "      <th>l1_r</th>\n",
       "      <th>l2_r</th>\n",
       "      <th>...</th>\n",
       "      <th>padding</th>\n",
       "      <th>start_neurons</th>\n",
       "      <th>train_loss</th>\n",
       "      <th>train_accuracy</th>\n",
       "      <th>train_precision</th>\n",
       "      <th>train_recall</th>\n",
       "      <th>val_loss</th>\n",
       "      <th>val_accuracy</th>\n",
       "      <th>val_precision</th>\n",
       "      <th>val_recall</th>\n",
       "    </tr>\n",
       "  </thead>\n",
       "  <tbody>\n",
       "    <tr>\n",
       "      <th>0</th>\n",
       "      <td>8</td>\n",
       "      <td>1</td>\n",
       "      <td>0.01</td>\n",
       "      <td>adam</td>\n",
       "      <td>relu</td>\n",
       "      <td>0.01</td>\n",
       "      <td>13</td>\n",
       "      <td>9</td>\n",
       "      <td>0.0001</td>\n",
       "      <td>0.0001</td>\n",
       "      <td>...</td>\n",
       "      <td>same</td>\n",
       "      <td>256</td>\n",
       "      <td>2630.731445</td>\n",
       "      <td>0.572993</td>\n",
       "      <td>0.572993</td>\n",
       "      <td>0.572993</td>\n",
       "      <td>1702677.75</td>\n",
       "      <td>0.614583</td>\n",
       "      <td>0.614583</td>\n",
       "      <td>0.614583</td>\n",
       "    </tr>\n",
       "    <tr>\n",
       "      <th>1</th>\n",
       "      <td>256</td>\n",
       "      <td>1</td>\n",
       "      <td>0.01</td>\n",
       "      <td>rmsprop</td>\n",
       "      <td>relu</td>\n",
       "      <td>0.01</td>\n",
       "      <td>17</td>\n",
       "      <td>5</td>\n",
       "      <td>0.0001</td>\n",
       "      <td>0.01</td>\n",
       "      <td>...</td>\n",
       "      <td>same</td>\n",
       "      <td>256</td>\n",
       "      <td>326103.656250</td>\n",
       "      <td>0.499023</td>\n",
       "      <td>0.497154</td>\n",
       "      <td>0.511719</td>\n",
       "      <td>16574631.00</td>\n",
       "      <td>0.535156</td>\n",
       "      <td>0.520755</td>\n",
       "      <td>0.539062</td>\n",
       "    </tr>\n",
       "  </tbody>\n",
       "</table>\n",
       "<p>2 rows × 21 columns</p>\n",
       "</div>"
      ],
      "text/plain": [
       "  batch_size epochs learning_rate optimizer activation dropout_rate filters  \\\n",
       "0          8      1          0.01      adam       relu         0.01      13   \n",
       "1        256      1          0.01   rmsprop       relu         0.01      17   \n",
       "\n",
       "  kernel_size    l1_r    l2_r  ... padding start_neurons     train_loss  \\\n",
       "0           9  0.0001  0.0001  ...    same           256    2630.731445   \n",
       "1           5  0.0001    0.01  ...    same           256  326103.656250   \n",
       "\n",
       "   train_accuracy  train_precision  train_recall     val_loss  val_accuracy  \\\n",
       "0        0.572993         0.572993      0.572993   1702677.75      0.614583   \n",
       "1        0.499023         0.497154      0.511719  16574631.00      0.535156   \n",
       "\n",
       "   val_precision  val_recall  \n",
       "0       0.614583    0.614583  \n",
       "1       0.520755    0.539062  \n",
       "\n",
       "[2 rows x 21 columns]"
      ]
     },
     "execution_count": 7,
     "metadata": {},
     "output_type": "execute_result"
    }
   ],
   "source": [
    "results_df"
   ]
  },
  {
   "cell_type": "code",
   "execution_count": 8,
   "metadata": {},
   "outputs": [],
   "source": [
    "train_loss = results_df.columns.get_loc('train_loss')\n",
    "metrics_df = results_df[results_df.columns[train_loss:]]\n"
   ]
  },
  {
   "cell_type": "code",
   "execution_count": 9,
   "metadata": {},
   "outputs": [
    {
     "data": {
      "text/plain": [
       "2630.7314453125"
      ]
     },
     "execution_count": 9,
     "metadata": {},
     "output_type": "execute_result"
    }
   ],
   "source": [
    "min(metrics_df['train_loss'])"
   ]
  },
  {
   "cell_type": "code",
   "execution_count": 10,
   "metadata": {},
   "outputs": [
    {
     "data": {
      "text/plain": [
       "0"
      ]
     },
     "execution_count": 10,
     "metadata": {},
     "output_type": "execute_result"
    }
   ],
   "source": [
    "metrics_df[metrics_df['train_loss'] == min(metrics_df['train_loss'])].index[0]"
   ]
  },
  {
   "cell_type": "code",
   "execution_count": 12,
   "metadata": {},
   "outputs": [
    {
     "ename": "NameError",
     "evalue": "name 'GridSearchProcessor' is not defined",
     "output_type": "error",
     "traceback": [
      "\u001b[1;31m---------------------------------------------------------------------------\u001b[0m",
      "\u001b[1;31mNameError\u001b[0m                                 Traceback (most recent call last)",
      "\u001b[1;32m<ipython-input-12-418c911a320b>\u001b[0m in \u001b[0;36m<module>\u001b[1;34m\u001b[0m\n\u001b[1;32m----> 1\u001b[1;33m GridSearchProcessor().get_result_by_name(\"results_5_test_earlyS.csv\", 2\n\u001b[0m\u001b[0;32m      2\u001b[0m )\n",
      "\u001b[1;31mNameError\u001b[0m: name 'GridSearchProcessor' is not defined"
     ]
    }
   ],
   "source": [
    "randomGrid.get_result_by_name(\"results_5_test_earlyS.csv\", 2)"
   ]
  },
  {
   "cell_type": "code",
   "execution_count": null,
   "metadata": {},
   "outputs": [],
   "source": [
    "def find_best_performers(results_df):\n",
    "    train_loss_index = results_df.columns.get_loc('train_loss')\n",
    "    metrics = results_df[results_df.columns[train_loss_index:]]\n",
    "    min_loss = {'train_loss' : min(metrics['train_loss']), 'val_loss' : min(metrics['val_loss']), \n",
    "                'train_index' : metrics_df[metrics_df['train_loss'] == min(metrics_df['train_loss'])].index[0], \n",
    "                'val_index' : metrics_df[metrics_df['val_loss'] == min(metrics_df['val_loss'])].index[0]}\n",
    "    \n",
    "    max_accuracy = {'train_accuracy' : max(metrics['train_accuracy']), 'val_accuracy' : max(metrics['val_accuracy']), \n",
    "                    'train_index' : metrics_df[metrics_df['train_accuracy'] == max(metrics_df['train_accuracy'])].index[0], \n",
    "                    'val_index' : metrics_df[metrics_df['val_accuracy'] == max(metrics_df['val_accuracy'])].index[0]}\n",
    "    \n",
    "    max_precision = {'train_precision' : max(metrics['train_precision']), 'val_precision' : max(metrics['val_precision']), \n",
    "                     'train_index' : metrics_df[metrics_df['train_precision'] == max(metrics_df['train_precision'])].index[0], \n",
    "                     'val_index' : metrics_df[metrics_df['val_precision'] == max(metrics_df['val_precision'])].index[0]}\n",
    "    \n",
    "    max_recall = {'train_recall' : max(metrics['train_recall']), 'val_recall' : max(metrics['train_recall']), \n",
    "                  'train_index' : metrics_df[metrics_df['train_recall'] == max(metrics_df['train_recall'])].index[0], \n",
    "                  'val_index' : metrics_df[metrics_df['val_recall'] == max(metrics_df['val_recall'])].index[0]}\n",
    "    \n",
    "    return min_loss, max_accuracy, max_precision, max_recall\n",
    "    "
   ]
  },
  {
   "cell_type": "code",
   "execution_count": null,
   "metadata": {},
   "outputs": [],
   "source": [
    "find_best_performers(results_df)"
   ]
  },
  {
   "cell_type": "code",
   "execution_count": null,
   "metadata": {},
   "outputs": [],
   "source": [
    "results_df"
   ]
  },
  {
   "cell_type": "code",
   "execution_count": null,
   "metadata": {},
   "outputs": [],
   "source": [
    "print(keys)\n",
    "print(keys2)"
   ]
  },
  {
   "cell_type": "code",
   "execution_count": null,
   "metadata": {},
   "outputs": [],
   "source": [
    "keys[0]"
   ]
  },
  {
   "cell_type": "code",
   "execution_count": null,
   "metadata": {},
   "outputs": [],
   "source": [
    "import numpy as np\n",
    "import pandas as pd\n",
    "hyper_keys = list(hyper_grid.keys())\n",
    "model_keys = list(model_grid.keys())\n",
    "metrics_train_keys = [\"train_loss\", \"train_accuracy\", \"train_presicion\", \"train_recall\"]\n",
    "metrics_val_keys = [\"val_loss\", \"val_accuracy\", \"val_presicion\", \"val_recall\"]\n",
    "header = np.concatenate((hyper_keys, model_keys, metrics_train_keys, metrics_val_keys))\n",
    "info_table = pd.DataFrame(np.array([i for i in range(len(header))]).reshape(1, 21) ,columns = header)"
   ]
  },
  {
   "cell_type": "code",
   "execution_count": null,
   "metadata": {},
   "outputs": [],
   "source": [
    "info_table"
   ]
  },
  {
   "cell_type": "code",
   "execution_count": null,
   "metadata": {},
   "outputs": [],
   "source": [
    "testing = pd.DataFrame([[0, np.nan]], columns = [\"a\", \"b\"])"
   ]
  },
  {
   "cell_type": "code",
   "execution_count": null,
   "metadata": {},
   "outputs": [],
   "source": [
    "to_add = pd.DataFrame(np.array([0 ,1]).reshape(1,2), columns = [\"a\", \"b\"])\n",
    "print(to_add)\n",
    "testing = testing.append(to_add)\n",
    "testing"
   ]
  },
  {
   "cell_type": "code",
   "execution_count": null,
   "metadata": {},
   "outputs": [],
   "source": [
    "nan_columns = testing.columns[testing.isnull().any()].tolist()"
   ]
  },
  {
   "cell_type": "code",
   "execution_count": null,
   "metadata": {},
   "outputs": [],
   "source": [
    "temp_df"
   ]
  },
  {
   "cell_type": "code",
   "execution_count": null,
   "metadata": {},
   "outputs": [],
   "source": [
    "nan_columns = temp_df.columns[temp_df.isna().any()].tolist()"
   ]
  },
  {
   "cell_type": "code",
   "execution_count": null,
   "metadata": {},
   "outputs": [],
   "source": [
    "nan_cols = [i for i in temp_df.columns if pd.isnull(temp_df[i].values)]"
   ]
  },
  {
   "cell_type": "code",
   "execution_count": null,
   "metadata": {},
   "outputs": [],
   "source": [
    "for column in temp_df.columns:\n",
    "    print(temp_df[column].values)"
   ]
  },
  {
   "cell_type": "code",
   "execution_count": null,
   "metadata": {},
   "outputs": [],
   "source": []
  },
  {
   "cell_type": "code",
   "execution_count": null,
   "metadata": {},
   "outputs": [],
   "source": [
    "temp_df['val_loss'].dtype"
   ]
  },
  {
   "cell_type": "code",
   "execution_count": null,
   "metadata": {},
   "outputs": [],
   "source": []
  }
 ],
 "metadata": {
  "kernelspec": {
   "display_name": "Python 3",
   "language": "python",
   "name": "python3"
  },
  "language_info": {
   "codemirror_mode": {
    "name": "ipython",
    "version": 3
   },
   "file_extension": ".py",
   "mimetype": "text/x-python",
   "name": "python",
   "nbconvert_exporter": "python",
   "pygments_lexer": "ipython3",
   "version": "3.8.3"
  }
 },
 "nbformat": 4,
 "nbformat_minor": 4
}
